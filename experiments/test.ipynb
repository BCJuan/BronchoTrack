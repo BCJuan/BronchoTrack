{
 "cells": [
  {
   "cell_type": "markdown",
   "metadata": {},
   "source": [
    "# Test results\n",
    "\n",
    "With folder `data/cleaned/preds`, we can obtain the results for the position and error metrics but in an accumulated version and not as an average."
   ]
  },
  {
   "cell_type": "code",
   "execution_count": 1,
   "metadata": {},
   "outputs": [],
   "source": [
    "import glob, os, pandas as pd, numpy as np, torch, math\n",
    "from tqdm import tqdm\n",
    "from BronchoTrack import metrics\n",
    "from torch import nn\n",
    "\n",
    "def compute_metrics_acum(folder):\n",
    "    aape, aade, aane, aace, aamse, aaqe, aamset = [], [], [], [], [], [], []\n",
    "    for pred_path in tqdm(glob.glob(folder)):\n",
    "        df = pd.read_csv(pred_path, index_col=0)\n",
    "        acum = df.cumsum()\n",
    "        pos_preds = torch.from_numpy(acum.loc[acum.index[-1], [\"shift_x\", \"shift_y\", \"shift_z\"]].values)\n",
    "        pos_targets = torch.from_numpy(acum.loc[acum.index[-1], [\"gt_shift_x\", \"gt_shift_y\", \"gt_shift_z\"]].values)\n",
    "        aape.append(metrics.EuclideanDistance.euclidean(pos_preds, pos_targets).numpy())\n",
    "        rot_targets = acum.loc[acum.index[-1], [\"gt_Rx_dif\", \"gt_Ry_dif\", \"gt_Rz_dif\"]].values\n",
    "        rot_preds = acum.loc[acum.index[-1], [\"Rx_dif\", \"Ry_dif\", \"Rz_dif\"]].values\n",
    "        rot_targets = torch.from_numpy(rot_targets)\n",
    "        rot_preds = torch.from_numpy(rot_preds)\n",
    "        aade.append(metrics.DirectionError.inverse_cos(rot_preds, rot_targets))\n",
    "        aane.append(metrics.NeedleError.needle(torch.hstack([pos_preds, rot_preds]), torch.hstack([pos_targets, rot_targets]), distance=5))\n",
    "        cse = metrics.CosMetric()\n",
    "        cse.update(rot_preds, rot_targets)\n",
    "        aace.append(cse.compute())\n",
    "        q = metrics.QuatMetric()\n",
    "        q.update(rot_preds, rot_targets)\n",
    "        aaqe.append(q.compute())\n",
    "        m = metrics.MSE()\n",
    "        m.update(rot_preds, rot_targets)\n",
    "        aamse.append(m.compute())\n",
    "        ms = metrics.EuclideanDistance()\n",
    "        ms.update(rot_preds, rot_targets)\n",
    "        aamset.append(ms.compute())\n",
    "    return \"AAPE {} +- {}, AADE {} +- {}, AANE {} +- {} AACE {} +- {} AAMSE {} +- {} AAQE {} +- {} AAMSE2 {} +- {}\".format(\n",
    "        np.mean(aape), np.std(aape), np.mean(aade), np.std(aade), np.mean(aane), np.std(aane), np.mean(aace), np.std(aace),\n",
    "        np.mean(aamse), np.std(aamse), np.mean(aaqe), np.std(aaqe), np.mean(aamset), np.std(aamset))"
   ]
  },
  {
   "cell_type": "code",
   "execution_count": 3,
   "metadata": {},
   "outputs": [
    {
     "name": "stdout",
     "output_type": "stream",
     "text": [
      "data/cleaned/final_test/preds_offsetnet_loss_mse_ce_FINAL/\n"
     ]
    },
    {
     "name": "stderr",
     "output_type": "stream",
     "text": [
      "100%|██████████| 40/40 [00:00<00:00, 166.15it/s]\n"
     ]
    },
    {
     "name": "stdout",
     "output_type": "stream",
     "text": [
      "AAPE 5.694908300830166 +- 4.634883603055501, AADE 1.584564896136206 +- 0.6745711965221148, AANE 9.478710402793485 +- 4.165236212680044 AACE 0.9949752688407898 +- 0.3429638147354126 AAMSE 1248.64404296875 +- 4032.7666015625 AAQE 1.187364935874939 +- 0.31424471735954285 AAMSE2 38.993377685546875 +- 47.17466354370117\n",
      "\n",
      "\n",
      "\n",
      "data/cleaned/final_test/preds_broncho_intra_model_convtemporal_loss_mse_ce_FINAL/\n"
     ]
    },
    {
     "name": "stderr",
     "output_type": "stream",
     "text": [
      "100%|██████████| 40/40 [00:00<00:00, 182.34it/s]"
     ]
    },
    {
     "name": "stdout",
     "output_type": "stream",
     "text": [
      "AAPE 4.994679840116618 +- 4.442020285378994, AADE 1.6334868961672278 +- 0.7475373035609071, AANE 9.3537357274942 +- 4.5839302353279265 AACE 0.8084970712661743 +- 0.35443809628486633 AAMSE 1048.977783203125 +- 3564.389892578125 AAQE 1.3135675191879272 +- 0.4368025064468384 AAMSE2 33.29506301879883 +- 45.14833068847656\n",
      "\n",
      "\n",
      "\n"
     ]
    },
    {
     "name": "stderr",
     "output_type": "stream",
     "text": [
      "\n"
     ]
    }
   ],
   "source": [
    "#compute_metrics_acum(\"data/cleaned/preds_30traj_MSE/*.csv\"), compute_metrics_acum(\"data/cleaned/preds_30traj_COS/*.csv\"), compute_metrics_acum(\"data/cleaned/preds_30traj_DE/*.csv\"), compute_metrics_acum(\"data/cleaned/preds_30traj_QUAT/*.csv\"), compute_metrics_acum(\"data/cleaned/preds_30traj_COS_EU/*.csv\")\n",
    "#folders = glob.glob(\"data/cleaned/all_outer/preds_outer_*/\")\n",
    "folders = glob.glob(\"data/cleaned/final_test/preds_*/\")\n",
    "for folder in folders:\n",
    "    print(folder)\n",
    "    print(compute_metrics_acum(folder + \"*.csv\"))\n",
    "    print(\"\\n\\n\")"
   ]
  },
  {
   "cell_type": "code",
   "execution_count": 2,
   "metadata": {},
   "outputs": [],
   "source": [
    "def compute_metrics(folder):\n",
    "    aape, aade, aane, aace, aamse, aaqe, aamset, aamset3 = [], [], [], [], [], [], [], []\n",
    "    for pred_path in tqdm(glob.glob(folder)):\n",
    "        df = pd.read_csv(pred_path, index_col=0)\n",
    "        for row, data in df.iterrows():\n",
    "            pos_preds = torch.from_numpy(data[[\"shift_x\", \"shift_y\", \"shift_z\"]].values)\n",
    "            pos_targets = torch.from_numpy(data[[\"gt_shift_x\", \"gt_shift_y\", \"gt_shift_z\"]].values)\n",
    "            aape.append(metrics.EuclideanDistance.euclidean(pos_preds, pos_targets).numpy())\n",
    "            rot_targets = data[[\"gt_Rx_dif\", \"gt_Ry_dif\", \"gt_Rz_dif\"]].values\n",
    "            rot_preds = data[[\"Rx_dif\", \"Ry_dif\", \"Rz_dif\"]].values\n",
    "            rot_targets = torch.from_numpy(rot_targets)\n",
    "            rot_preds = torch.from_numpy(rot_preds)\n",
    "            aade.append(metrics.DirectionError.inverse_cos(rot_preds, rot_targets))\n",
    "            aane.append(metrics.NeedleError.needle(torch.hstack([pos_preds, rot_preds]), torch.hstack([pos_targets, rot_targets]), distance=3))\n",
    "            cse = metrics.CosMetric()\n",
    "            cse.update(rot_preds, rot_targets)\n",
    "            aace.append(cse.compute())\n",
    "            q = metrics.QuatMetric()\n",
    "            q.update(rot_preds, rot_targets)\n",
    "            aaqe.append(q.compute())\n",
    "            m = metrics.MSE()\n",
    "            m.update(rot_preds, rot_targets)\n",
    "            aamse.append(m.compute())\n",
    "            ms = metrics.EuclideanDistance()\n",
    "            ms.update(rot_preds, rot_targets)\n",
    "            aamset.append(ms.compute())\n",
    "            m.reset(), ms.reset(), cse.reset() \n",
    "            ll = nn.MSELoss()\n",
    "            aamset3.append(ll(rot_preds, rot_targets))\n",
    "    return \"AAPE {} +- {}, AADE {} +- {}, AANE {} +- {} AACE {} +- {} AAMSE {} +- {} AAQE {} +- {} AAMSE2 {} +- {} AAMSE3 {} +- {}\".format(\n",
    "        np.mean(aape), np.std(aape), np.mean(aade), np.std(aade), np.mean(aane), np.std(aane), np.mean(aace), np.std(aace),\n",
    "        np.mean(aamse), np.std(aamse), np.mean(aaqe), np.std(aaqe), np.mean(aamset), np.std(aamset), np.mean(aamset3), np.std(aamset3) )"
   ]
  },
  {
   "cell_type": "code",
   "execution_count": 3,
   "metadata": {},
   "outputs": [
    {
     "name": "stdout",
     "output_type": "stream",
     "text": [
      "data/cleaned/all_intra/preds_intra_model_doublelateconvtemporal_loss_mse/\n"
     ]
    },
    {
     "name": "stderr",
     "output_type": "stream",
     "text": [
      "100%|██████████| 60/60 [00:10<00:00,  5.95it/s]\n"
     ]
    },
    {
     "name": "stdout",
     "output_type": "stream",
     "text": [
      "AAPE 0.3680805354096437 +- 0.24513293390149332, AADE 0.6552843961319902 +- 0.5022018649090123, AANE 1.892865354051268 +- 1.2457047195961222 AACE 0.15347787737846375 +- 0.1976008117198944 AAMSE 23.685781478881836 +- 705.59619140625 AAQE 0.6615489721298218 +- 0.3701571822166443 AAMSE2 1.1657220125198364 +- 8.34855842590332 AAMSE3 23.685781222474745 +- 705.5962464657475\n",
      "\n",
      "\n",
      "\n",
      "data/cleaned/all_intra/preds_intra_model_doublelatetemporal_loss_cos/\n"
     ]
    },
    {
     "name": "stderr",
     "output_type": "stream",
     "text": [
      "100%|██████████| 60/60 [00:09<00:00,  6.07it/s]\n"
     ]
    },
    {
     "name": "stdout",
     "output_type": "stream",
     "text": [
      "AAPE 0.3711909002947466 +- 0.24085223694993516, AADE 0.7907587787835094 +- 0.5990097168044618, AANE 2.2127386338349195 +- 1.4268444582650024 AACE 0.21380412578582764 +- 0.2504816949367523 AAMSE 25.370847702026367 +- 703.092529296875 AAQE 0.7398276329040527 +- 0.4633330702781677 AAMSE2 1.8881011009216309 +- 8.517488479614258 AAMSE3 25.3708484049439 +- 703.0925312134837\n",
      "\n",
      "\n",
      "\n",
      "data/cleaned/all_intra/preds_intra_model_doublelatetemporal_loss_direction/\n"
     ]
    },
    {
     "name": "stderr",
     "output_type": "stream",
     "text": [
      "100%|██████████| 60/60 [00:09<00:00,  6.11it/s]\n"
     ]
    },
    {
     "name": "stdout",
     "output_type": "stream",
     "text": [
      "AAPE 0.4210211922665698 +- 0.24199560916337087, AADE 0.81697673088709 +- 0.6023333721380754, AANE 2.2893735490359464 +- 1.4346121192870087 AACE 0.44691503047943115 +- 0.37164679169654846 AAMSE 26.126415252685547 +- 704.2529296875 AAQE 0.7621277570724487 +- 0.6061722040176392 AAMSE2 2.5161936283111572 +- 8.488110542297363 AAMSE3 26.126415842145285 +- 704.2529762988701\n",
      "\n",
      "\n",
      "\n",
      "data/cleaned/all_intra/preds_intra_model_doublelate3d_loss_mse/\n"
     ]
    },
    {
     "name": "stderr",
     "output_type": "stream",
     "text": [
      "100%|██████████| 60/60 [00:09<00:00,  6.16it/s]\n"
     ]
    },
    {
     "name": "stdout",
     "output_type": "stream",
     "text": [
      "AAPE 0.4432627148993358 +- 0.29565038754986367, AADE 0.5033776924746969 +- 0.416443141553383, AANE 1.5251213231523273 +- 1.08009668767022 AACE 0.09321773797273636 +- 0.14970062673091888 AAMSE 23.47275733947754 +- 705.2207641601562 AAQE 0.6246860027313232 +- 0.3334623873233795 AAMSE2 0.9161677956581116 +- 8.341397285461426 AAMSE3 23.472758126682987 +- 705.2207877044679\n",
      "\n",
      "\n",
      "\n",
      "data/cleaned/all_intra/preds_intra_model_doublelate_loss_direction/\n"
     ]
    },
    {
     "name": "stderr",
     "output_type": "stream",
     "text": [
      "100%|██████████| 60/60 [00:09<00:00,  6.11it/s]\n"
     ]
    },
    {
     "name": "stdout",
     "output_type": "stream",
     "text": [
      "AAPE 0.4593316612698182 +- 0.28254569774399363, AADE 0.8307479527432621 +- 0.5902763150932174, AANE 2.3345705706119646 +- 1.4042813976256598 AACE 0.47221440076828003 +- 0.39201438426971436 AAMSE 26.02092170715332 +- 704.6503295898438 AAQE 0.7624772191047668 +- 0.6011379361152649 AAMSE2 2.52919864654541 +- 8.465571403503418 AAMSE3 26.020920260036007 +- 704.6503946919926\n",
      "\n",
      "\n",
      "\n",
      "data/cleaned/all_intra/preds_intra_model_doublelatetemporal_loss_mse/\n"
     ]
    },
    {
     "name": "stderr",
     "output_type": "stream",
     "text": [
      "100%|██████████| 60/60 [00:09<00:00,  6.11it/s]\n"
     ]
    },
    {
     "name": "stdout",
     "output_type": "stream",
     "text": [
      "AAPE 0.35390907564623575 +- 0.22117869271600293, AADE 0.6113957699785175 +- 0.5008915889975816, AANE 1.76690314183499 +- 1.255359846175901 AACE 0.13674521446228027 +- 0.19501587748527527 AAMSE 23.636960983276367 +- 705.3673095703125 AAQE 0.6493675112724304 +- 0.370542049407959 AAMSE2 1.0928301811218262 +- 8.34964656829834 AAMSE3 23.6369568198243 +- 705.3672939183314\n",
      "\n",
      "\n",
      "\n",
      "data/cleaned/all_intra/preds_intra_model_doublelate3d_loss_cos/\n"
     ]
    },
    {
     "name": "stderr",
     "output_type": "stream",
     "text": [
      "100%|██████████| 60/60 [00:09<00:00,  6.16it/s]\n"
     ]
    },
    {
     "name": "stdout",
     "output_type": "stream",
     "text": [
      "AAPE 0.3972631679080925 +- 0.2523918875351432, AADE 0.7241139221375589 +- 0.5595870349621018, AANE 2.055866844491416 +- 1.3435190750089305 AACE 0.16794459521770477 +- 0.2216985821723938 AAMSE 24.976457595825195 +- 706.6138916015625 AAQE 0.7031448483467102 +- 0.43572568893432617 AAMSE2 1.5922586917877197 +- 8.50847053527832 AAMSE3 24.976454047175462 +- 706.6139190615197\n",
      "\n",
      "\n",
      "\n",
      "data/cleaned/all_intra/preds_intra_model_doublelate3d_loss_direction/\n"
     ]
    },
    {
     "name": "stderr",
     "output_type": "stream",
     "text": [
      "100%|██████████| 60/60 [00:09<00:00,  6.11it/s]\n"
     ]
    },
    {
     "name": "stdout",
     "output_type": "stream",
     "text": [
      "AAPE 0.4677269884952584 +- 0.2892936633416534, AADE 0.8807304459466404 +- 0.590014293807378, AANE 2.447772876623711 +- 1.3979520007152975 AACE 0.3863576650619507 +- 0.3275235593318939 AAMSE 25.73192024230957 +- 704.8014526367188 AAQE 0.7590351700782776 +- 0.5530025959014893 AAMSE2 2.2938740253448486 +- 8.4813871383667 AAMSE3 25.73192398313927 +- 704.8015368067146\n",
      "\n",
      "\n",
      "\n",
      "data/cleaned/all_intra/preds_intra_model_doublelate_loss_mse/\n"
     ]
    },
    {
     "name": "stderr",
     "output_type": "stream",
     "text": [
      "100%|██████████| 60/60 [00:09<00:00,  6.11it/s]\n"
     ]
    },
    {
     "name": "stdout",
     "output_type": "stream",
     "text": [
      "AAPE 0.4475638040493914 +- 0.27679513051791904, AADE 0.6494423577456654 +- 0.5131292891013637, AANE 1.8889901554472768 +- 1.2618991237338542 AACE 0.14788852632045746 +- 0.20090803503990173 AAMSE 23.61760902404785 +- 703.6377563476562 AAQE 0.6468758583068848 +- 0.3804352879524231 AAMSE2 1.1425708532333374 +- 8.339505195617676 AAMSE3 23.617607264640906 +- 703.6378102960666\n",
      "\n",
      "\n",
      "\n",
      "data/cleaned/all_intra/preds_intra_model_doublelateconvtemporal_loss_cos/\n"
     ]
    },
    {
     "name": "stderr",
     "output_type": "stream",
     "text": [
      "100%|██████████| 60/60 [00:09<00:00,  6.16it/s]\n"
     ]
    },
    {
     "name": "stdout",
     "output_type": "stream",
     "text": [
      "AAPE 0.35535299998064485 +- 0.26564102929029265, AADE 0.7326312215530074 +- 0.5737959951085523, AANE 2.0508293808672677 +- 1.370302428861312 AACE 0.19561447203159332 +- 0.24284790456295013 AAMSE 25.289413452148438 +- 704.9070434570312 AAQE 0.7228149771690369 +- 0.4569717347621918 AAMSE2 1.8007925748825073 +- 8.522052764892578 AAMSE3 25.289414002665325 +- 704.9070279132632\n",
      "\n",
      "\n",
      "\n",
      "data/cleaned/all_intra/preds_intra_model_doublelateconvtemporal_loss_direction/\n"
     ]
    },
    {
     "name": "stderr",
     "output_type": "stream",
     "text": [
      "100%|██████████| 60/60 [00:09<00:00,  6.11it/s]\n"
     ]
    },
    {
     "name": "stdout",
     "output_type": "stream",
     "text": [
      "AAPE 0.432721793142318 +- 0.2609068448908133, AADE 0.888110934984538 +- 0.6353997512902394, AANE 2.4398944305307992 +- 1.4807076083252955 AACE 0.4526693820953369 +- 0.3616095781326294 AAMSE 25.848838806152344 +- 703.1240844726562 AAQE 0.7656574845314026 +- 0.6099673509597778 AAMSE2 2.4807791709899902 +- 8.449394226074219 AAMSE3 25.84884098514213 +- 703.124145497759\n",
      "\n",
      "\n",
      "\n",
      "data/cleaned/all_intra/preds_intra_model_doublelate_loss_cos/\n"
     ]
    },
    {
     "name": "stderr",
     "output_type": "stream",
     "text": [
      "100%|██████████| 60/60 [00:09<00:00,  6.11it/s]"
     ]
    },
    {
     "name": "stdout",
     "output_type": "stream",
     "text": [
      "AAPE 0.39534267490642483 +- 0.26850898332486245, AADE 0.735987522325995 +- 0.571709192510524, AANE 2.071517441883913 +- 1.3646237904923522 AACE 0.1886986345052719 +- 0.23782919347286224 AAMSE 25.15384292602539 +- 704.2326049804688 AAQE 0.7151168584823608 +- 0.45628446340560913 AAMSE2 1.7498983144760132 +- 8.508782386779785 AAMSE3 25.15384245578188 +- 704.2325937736316\n",
      "\n",
      "\n",
      "\n"
     ]
    },
    {
     "name": "stderr",
     "output_type": "stream",
     "text": [
      "\n"
     ]
    }
   ],
   "source": [
    "# compute_metrics(\"data/cleaned/data_increase/outer_120/preds_120traj_COS_EU_inter_P18/*.csv\")\n",
    "# compute_metrics(\"data/cleaned/architectures2/preds_15traj_COS_arch_doublelateconvtemporal2/*.csv\")\n",
    "# compute_metrics(\"data/cleaned/prune_distill/preds_15traj_COS_prune_06/*.csv\")\n",
    "# compute_metrics(\"data/cleaned/loss_intra/preds_30traj_DE/*.csv\")\n",
    "# compute_metrics(\"data/cleaned/comparison/preds_15traj_comparison_offsetnet/*.csv\")\n",
    "folders = glob.glob(\"data/cleaned/all_intra/preds_intra_*/\")\n",
    "for folder in folders:\n",
    "    print(folder)\n",
    "    print(compute_metrics(folder + \"*.csv\"))\n",
    "    print(\"\\n\\n\")"
   ]
  },
  {
   "cell_type": "code",
   "execution_count": 18,
   "metadata": {},
   "outputs": [
    {
     "name": "stderr",
     "output_type": "stream",
     "text": [
      "100%|██████████| 120/120 [00:17<00:00,  6.91it/s]\n",
      "100%|██████████| 120/120 [00:17<00:00,  6.93it/s]\n",
      "100%|██████████| 120/120 [00:17<00:00,  6.91it/s]\n",
      "100%|██████████| 120/120 [00:17<00:00,  6.97it/s]\n",
      "100%|██████████| 120/120 [00:17<00:00,  6.93it/s]\n"
     ]
    },
    {
     "data": {
      "text/plain": [
       "('AAPE 0.5491277217666873 +- 0.573653173740771, AADE 0.7248276525217127 +- 0.498294865650828, AANE 2.133701451221059 +- 1.3643027063455693 AACE 0.17344273626804352 +- 0.19498062133789062 AAMSE 15.751633644104004 +- 455.8465576171875 AAQE 0.6379731297492981 +- 0.3691841959953308',\n",
       " 'AAPE 0.2646646795385093 +- 0.16944264858997296, AADE 0.5428455738276546 +- 0.5032078981195843, AANE 1.5545040837767403 +- 1.2577643932778806 AACE 0.11609118431806564 +- 0.18177255988121033 AAMSE 25.304031372070312 +- 711.93359375 AAQE 0.6825854182243347 +- 0.4137953817844391',\n",
       " 'AAPE 0.3682859682206188 +- 0.1913224449289966, AADE 0.713015618811532 +- 0.5331496554219437, AANE 2.0406247662187673 +- 1.3392663732322747 AACE 0.43466493487358093 +- 0.3853222131729126 AAMSE 26.017972946166992 +- 706.2825927734375 AAQE 0.749027669429779 +- 0.5646618604660034',\n",
       " 'AAPE nan +- nan, AADE nan +- nan, AANE nan +- nan AACE nan +- nan AAMSE nan +- nan AAQE inf +- nan',\n",
       " 'AAPE 0.25759985880518227 +- 0.16911057809014685, AADE 0.6090510067153763 +- 0.519069685510218, AANE 1.7325349993410406 +- 1.2947521430792868 AACE 0.1372804343700409 +- 0.19212497770786285 AAMSE 25.229997634887695 +- 707.8998413085938 AAQE 0.6943621635437012 +- 0.41772815585136414')"
      ]
     },
     "execution_count": 18,
     "metadata": {},
     "output_type": "execute_result"
    }
   ],
   "source": [
    "compute_metrics(\"data/cleaned/preds_30traj_MSE/*.csv\"), compute_metrics(\"data/cleaned/preds_30traj_COS/*.csv\"), compute_metrics(\"data/cleaned/preds_30traj_DE/*.csv\"), compute_metrics(\"data/cleaned/preds_30traj_QUAT/*.csv\"), compute_metrics(\"data/cleaned/preds_30traj_COS_EU/*.csv\")"
   ]
  },
  {
   "cell_type": "markdown",
   "metadata": {},
   "source": [
    " ## Results loss cross patient"
   ]
  },
  {
   "cell_type": "code",
   "execution_count": 36,
   "metadata": {},
   "outputs": [],
   "source": [
    "from collections import defaultdict"
   ]
  },
  {
   "cell_type": "code",
   "execution_count": 50,
   "metadata": {},
   "outputs": [],
   "source": [
    "def compute_errors(root=\"./data/cleaned/preds_round_1/\", losses=[\"COS\", \"MSE\", \"DE\", \"QUAT\"]):\n",
    "    subfolders = {i: [os.path.join(root, folder)  for folder in os.listdir(root) if i in folder] for i in losses}\n",
    "    submetrics = {i: defaultdict(list) for i in losses}\n",
    "    for loss in tqdm(losses):\n",
    "        for subfolder in subfolders[loss]:\n",
    "            for file in os.listdir(subfolder):\n",
    "                df_sample = pd.read_csv(os.path.join(subfolder, file), index_col=0)\n",
    "                for row, data in df_sample.iterrows():\n",
    "                    pos_preds = torch.from_numpy(data[[\"shift_x\", \"shift_y\", \"shift_z\"]].values)\n",
    "                    pos_targets = torch.from_numpy(data[[\"gt_shift_x\", \"gt_shift_y\", \"gt_shift_z\"]].values)\n",
    "                    submetrics[loss][\"AAPE\"].append(metrics.EuclideanDistance.euclidean(pos_preds, pos_targets).numpy())\n",
    "                    rot_targets = data[[\"gt_Rx_dif\", \"gt_Ry_dif\", \"gt_Rz_dif\"]].values\n",
    "                    rot_preds = data[[\"Rx_dif\", \"Ry_dif\", \"Rz_dif\"]].values\n",
    "                    rot_targets = torch.from_numpy(rot_targets)\n",
    "                    rot_preds = torch.from_numpy(rot_preds)\n",
    "                    submetrics[loss][\"AADE\"].append(metrics.DirectionError.inverse_cos(rot_preds, rot_targets).numpy())\n",
    "                    submetrics[loss][\"AANE\"].append(metrics.NeedleError.needle(torch.hstack([pos_preds, rot_preds]), torch.hstack([pos_targets, rot_targets]), distance=3).numpy())\n",
    "        submetrics[loss][\"AAPE\"] = (np.mean(submetrics[loss][\"AAPE\"]), np.std(submetrics[loss][\"AAPE\"]))\n",
    "        submetrics[loss][\"AADE\"] = (np.mean(submetrics[loss][\"AADE\"]), np.std(submetrics[loss][\"AADE\"]))\n",
    "        submetrics[loss][\"AANE\"] = (np.mean(submetrics[loss][\"AANE\"]), np.std(submetrics[loss][\"AANE\"]))\n",
    "    return submetrics\n",
    "        \n"
   ]
  },
  {
   "cell_type": "code",
   "execution_count": 51,
   "metadata": {},
   "outputs": [
    {
     "data": {
      "application/vnd.jupyter.widget-view+json": {
       "model_id": "c7747927e79f49d0b460c85aab6b581b",
       "version_major": 2,
       "version_minor": 0
      },
      "text/plain": [
       "  0%|          | 0/4 [00:00<?, ?it/s]"
      ]
     },
     "metadata": {},
     "output_type": "display_data"
    }
   ],
   "source": [
    "results = compute_errors()"
   ]
  },
  {
   "cell_type": "code",
   "execution_count": 52,
   "metadata": {},
   "outputs": [
    {
     "data": {
      "text/plain": [
       "{'COS': defaultdict(list,\n",
       "             {'AAPE': (0.7378152121278749, 0.4505294373549075),\n",
       "              'AADE': (1.1975325795102736, 0.7669386701924008),\n",
       "              'AANE': (3.253374431203741, 1.6608348329290958)}),\n",
       " 'MSE': defaultdict(list,\n",
       "             {'AAPE': (0.7555466617392615, 0.4499440452227794),\n",
       "              'AADE': (1.2367228395662788, 0.7639783827566352),\n",
       "              'AANE': (3.3043340700818193, 1.6125088852780254)}),\n",
       " 'DE': defaultdict(list,\n",
       "             {'AAPE': (0.7390488814078968, 0.4434353750507124),\n",
       "              'AADE': (1.2119055731497668, 0.7702147501155583),\n",
       "              'AANE': (3.2856565743090784, 1.666478388639561)}),\n",
       " 'QUAT': defaultdict(list,\n",
       "             {'AAPE': (0.7443752694683445, 0.44549288678195853),\n",
       "              'AADE': (1.332005785650499, 0.6744398102944591),\n",
       "              'AANE': (3.6061799354533117, 1.4897843823402674)})}"
      ]
     },
     "execution_count": 52,
     "metadata": {},
     "output_type": "execute_result"
    }
   ],
   "source": [
    "results"
   ]
  },
  {
   "cell_type": "markdown",
   "metadata": {},
   "source": [
    "# Build docs for Debora"
   ]
  },
  {
   "cell_type": "code",
   "execution_count": 2,
   "metadata": {},
   "outputs": [],
   "source": [
    "import pandas as pd\n",
    "import numpy as np\n",
    "import os\n",
    "from tqdm.notebook import tqdm\n",
    "import torch\n",
    "from BronchoTrack import metrics"
   ]
  },
  {
   "cell_type": "code",
   "execution_count": 8,
   "metadata": {},
   "outputs": [],
   "source": [
    "def add_metrics(df_x):\n",
    "    df_x[\"Direction Error\"], df_x[\"Pos Error (Euclidean)\"], df_x[\"Needle Error\"], df_x[\"Cosinus Error\"], df_x[\"Cosinus X Error\"] = 0.0, 0.0, 0.0, 0.0, 0.0\n",
    "    df_x[\"Cosinus Y Error\"], df_x[\"Cosinus Z Error\"], df_x[\"MSE\"], df_x[\"Quaternion Error\"] = 0.0, 0.0, 0.0, 0.0\n",
    "    for row, data in df_x.iterrows():\n",
    "            pos_preds = torch.from_numpy(data[[\"shift_x\", \"shift_y\", \"shift_z\"]].values)\n",
    "            pos_targets = torch.from_numpy(data[[\"gt_shift_x\", \"gt_shift_y\", \"gt_shift_z\"]].values)\n",
    "            df_x.loc[row, \"Pos Error\"] = metrics.EuclideanDistance.euclidean(pos_preds, pos_targets).numpy()\n",
    "            rot_targets = data[[\"gt_Rx_dif\", \"gt_Ry_dif\", \"gt_Rz_dif\"]].values\n",
    "            rot_preds = data[[\"Rx_dif\", \"Ry_dif\", \"Rz_dif\"]].values\n",
    "            rot_targets = torch.from_numpy(rot_targets)\n",
    "            rot_preds = torch.from_numpy(rot_preds)\n",
    "            df_x.loc[row, \"Direction Error\"] = metrics.DirectionError.inverse_cos(rot_preds, rot_targets).numpy()\n",
    "            df_x.loc[row, \"Needle Error\"] = metrics.NeedleError.needle(torch.hstack([pos_preds, rot_preds]), torch.hstack([pos_targets, rot_targets]), distance=3).numpy()\n",
    "            cse = metrics.CosMetric()\n",
    "            cse.update(rot_preds, rot_targets)\n",
    "            df_x.loc[row, \"Cosinus Error\"] = cse.compute().numpy()\n",
    "            # q = metrics.QuatMetric()\n",
    "            # q.update(rot_preds, rot_targets)\n",
    "            # df_x.loc[row, \"Quaternion Error \"] = q.compute().numpy()\n",
    "            m = metrics.MSE()\n",
    "            m.update(rot_preds, rot_targets)\n",
    "            df_x.loc[row, \"MSE\"] = m.compute().numpy()\n",
    "            cse_x = metrics.CosMetric(0)\n",
    "            cse_x.update(rot_preds, rot_targets)\n",
    "            df_x.loc[row, \"Cosinus X Error\"] = cse_x.compute().numpy()\n",
    "            cse_y = metrics.CosMetric(1)\n",
    "            cse_y.update(rot_preds, rot_targets)\n",
    "            df_x.loc[row, \"Cosinus Y Error\"] = cse_y.compute().numpy()\n",
    "            cse_z = metrics.CosMetric(2)\n",
    "            cse_z.update(rot_preds, rot_targets)\n",
    "            df_x.loc[row, \"Cosinus Z Error\"] = cse_z.compute().numpy()\n",
    "    return df_x\n",
    "\n",
    "\n",
    "def add_info(df_x, filename, folder):\n",
    "    df_x[\"Patient\"] = filename.split(\"_\")[1]\n",
    "    df_x[\"Lobe\"] = filename.split(\"_\")[-2]\n",
    "    df_x[\"Trajectory\"] = filename.split(\"_\")[-1].split(\".\")[0]\n",
    "    df_x[\"Loss\"] = folder.split(\"_\")[-1]\n",
    "    df_x[\"Architecture\"] = folder.split(\"_\")[-3]\n",
    "    return df_x"
   ]
  },
  {
   "cell_type": "code",
   "execution_count": 11,
   "metadata": {},
   "outputs": [
    {
     "data": {
      "application/vnd.jupyter.widget-view+json": {
       "model_id": "a50adaec563b44d894b2e489543d68f8",
       "version_major": 2,
       "version_minor": 0
      },
      "text/plain": [
       "  0%|          | 0/16 [00:00<?, ?it/s]"
      ]
     },
     "metadata": {},
     "output_type": "display_data"
    }
   ],
   "source": [
    "root = \"./data/cleaned/all_intra/\"\n",
    "final_csv = pd.DataFrame()\n",
    "for folder in tqdm(os.listdir(root)):\n",
    "    subfolder = os.path.join(root, folder)\n",
    "    if os.path.isdir(subfolder) and \"preds\" in subfolder:\n",
    "        for file in os.listdir(subfolder):\n",
    "            df_sample = pd.read_csv(os.path.join(subfolder, file), index_col=0) \n",
    "            columns_to_drop = df_sample.columns\n",
    "            df_sample = add_metrics(df_sample)\n",
    "            df_sample = add_info(df_sample, file, folder)\n",
    "            df_sample.drop(columns_to_drop, axis=1, inplace=True)\n",
    "            if not final_csv.empty:\n",
    "                final_csv = pd.concat([final_csv, df_sample], axis=0, ignore_index=True)\n",
    "            else:\n",
    "                final_csv = df_sample.copy()\n",
    "final_csv.to_csv(os.path.join(root, \"global_result_intra.csv\"))"
   ]
  },
  {
   "cell_type": "markdown",
   "metadata": {},
   "source": [
    "## COmpute latencies"
   ]
  },
  {
   "cell_type": "code",
   "execution_count": 1,
   "metadata": {},
   "outputs": [],
   "source": [
    "import torch\n",
    "import time\n",
    "from tqdm import tqdm_notebook\n",
    "import numpy as np\n",
    "from BronchoTrack.models import bronchonet\n",
    "from BronchoTrack.models import offsetnet"
   ]
  },
  {
   "cell_type": "code",
   "execution_count": 2,
   "metadata": {},
   "outputs": [],
   "source": [
    "model3d = bronchonet.BronchoNetDoubleLate3DFusion()\n",
    "modelt = bronchonet.BronchoNetDoubleTemporalLateFusion()\n",
    "model = bronchonet.BronchoNetDoubleLateFusion()\n",
    "modelct = bronchonet.BronchoNetDoubleTemporalConvLateFusion()\n",
    "modeloff = offsetnet.OffsetNet()"
   ]
  },
  {
   "cell_type": "code",
   "execution_count": 3,
   "metadata": {},
   "outputs": [],
   "source": [
    "def compute_avg_latency(model):\n",
    "    avg_t = []\n",
    "    model.to(\"cuda:0\")\n",
    "    for i in tqdm_notebook(range(100)):\n",
    "        t0 = time.time()\n",
    "        out = model(torch.randn(1, 2, 3, 256, 256).to(\"cuda:0\"))\n",
    "        avg_t.append(time.time() -  t0)\n",
    "    return np.mean(avg_t), np.std(avg_t)"
   ]
  },
  {
   "cell_type": "code",
   "execution_count": 4,
   "metadata": {},
   "outputs": [
    {
     "name": "stderr",
     "output_type": "stream",
     "text": [
      "ipykernel_launcher:4: TqdmDeprecationWarning: This function will be removed in tqdm==5.0.0\n",
      "Please use `tqdm.notebook.tqdm` instead of `tqdm.tqdm_notebook`\n"
     ]
    },
    {
     "data": {
      "application/vnd.jupyter.widget-view+json": {
       "model_id": "723ad06cd1a047b38947ef2ef6325529",
       "version_major": 2,
       "version_minor": 0
      },
      "text/plain": [
       "  0%|          | 0/100 [00:00<?, ?it/s]"
      ]
     },
     "metadata": {},
     "output_type": "display_data"
    },
    {
     "ename": "RuntimeError",
     "evalue": "mat1 and mat2 shapes cannot be multiplied (1x16384 and 256x6)",
     "output_type": "error",
     "traceback": [
      "\u001b[0;31m---------------------------------------------------------------------------\u001b[0m",
      "\u001b[0;31mRuntimeError\u001b[0m                              Traceback (most recent call last)",
      "\u001b[0;32m<ipython-input-4-e6b44e24517c>\u001b[0m in \u001b[0;36m<module>\u001b[0;34m\u001b[0m\n\u001b[0;32m----> 1\u001b[0;31m \u001b[0mcompute_avg_latency\u001b[0m\u001b[0;34m(\u001b[0m\u001b[0mmodel\u001b[0m\u001b[0;34m)\u001b[0m\u001b[0;34m\u001b[0m\u001b[0;34m\u001b[0m\u001b[0m\n\u001b[0m",
      "\u001b[0;32m<ipython-input-3-8f6b14e9b68e>\u001b[0m in \u001b[0;36mcompute_avg_latency\u001b[0;34m(model)\u001b[0m\n\u001b[1;32m      4\u001b[0m     \u001b[0;32mfor\u001b[0m \u001b[0mi\u001b[0m \u001b[0;32min\u001b[0m \u001b[0mtqdm_notebook\u001b[0m\u001b[0;34m(\u001b[0m\u001b[0mrange\u001b[0m\u001b[0;34m(\u001b[0m\u001b[0;36m100\u001b[0m\u001b[0;34m)\u001b[0m\u001b[0;34m)\u001b[0m\u001b[0;34m:\u001b[0m\u001b[0;34m\u001b[0m\u001b[0;34m\u001b[0m\u001b[0m\n\u001b[1;32m      5\u001b[0m         \u001b[0mt0\u001b[0m \u001b[0;34m=\u001b[0m \u001b[0mtime\u001b[0m\u001b[0;34m.\u001b[0m\u001b[0mtime\u001b[0m\u001b[0;34m(\u001b[0m\u001b[0;34m)\u001b[0m\u001b[0;34m\u001b[0m\u001b[0;34m\u001b[0m\u001b[0m\n\u001b[0;32m----> 6\u001b[0;31m         \u001b[0mout\u001b[0m \u001b[0;34m=\u001b[0m \u001b[0mmodel\u001b[0m\u001b[0;34m(\u001b[0m\u001b[0mtorch\u001b[0m\u001b[0;34m.\u001b[0m\u001b[0mrandn\u001b[0m\u001b[0;34m(\u001b[0m\u001b[0;36m1\u001b[0m\u001b[0;34m,\u001b[0m \u001b[0;36m2\u001b[0m\u001b[0;34m,\u001b[0m \u001b[0;36m3\u001b[0m\u001b[0;34m,\u001b[0m \u001b[0;36m256\u001b[0m\u001b[0;34m,\u001b[0m \u001b[0;36m256\u001b[0m\u001b[0;34m)\u001b[0m\u001b[0;34m.\u001b[0m\u001b[0mto\u001b[0m\u001b[0;34m(\u001b[0m\u001b[0;34m\"cuda:0\"\u001b[0m\u001b[0;34m)\u001b[0m\u001b[0;34m)\u001b[0m\u001b[0;34m\u001b[0m\u001b[0;34m\u001b[0m\u001b[0m\n\u001b[0m\u001b[1;32m      7\u001b[0m         \u001b[0mavg_t\u001b[0m\u001b[0;34m.\u001b[0m\u001b[0mappend\u001b[0m\u001b[0;34m(\u001b[0m\u001b[0mtime\u001b[0m\u001b[0;34m.\u001b[0m\u001b[0mtime\u001b[0m\u001b[0;34m(\u001b[0m\u001b[0;34m)\u001b[0m \u001b[0;34m-\u001b[0m  \u001b[0mt0\u001b[0m\u001b[0;34m)\u001b[0m\u001b[0;34m\u001b[0m\u001b[0;34m\u001b[0m\u001b[0m\n\u001b[1;32m      8\u001b[0m     \u001b[0;32mreturn\u001b[0m \u001b[0mnp\u001b[0m\u001b[0;34m.\u001b[0m\u001b[0mmean\u001b[0m\u001b[0;34m(\u001b[0m\u001b[0mavg_t\u001b[0m\u001b[0;34m)\u001b[0m\u001b[0;34m,\u001b[0m \u001b[0mnp\u001b[0m\u001b[0;34m.\u001b[0m\u001b[0mstd\u001b[0m\u001b[0;34m(\u001b[0m\u001b[0mavg_t\u001b[0m\u001b[0;34m)\u001b[0m\u001b[0;34m\u001b[0m\u001b[0;34m\u001b[0m\u001b[0m\n",
      "\u001b[0;32m~/miniconda3/envs/broncho/lib/python3.6/site-packages/torch/nn/modules/module.py\u001b[0m in \u001b[0;36m_call_impl\u001b[0;34m(self, *input, **kwargs)\u001b[0m\n\u001b[1;32m   1100\u001b[0m         if not (self._backward_hooks or self._forward_hooks or self._forward_pre_hooks or _global_backward_hooks\n\u001b[1;32m   1101\u001b[0m                 or _global_forward_hooks or _global_forward_pre_hooks):\n\u001b[0;32m-> 1102\u001b[0;31m             \u001b[0;32mreturn\u001b[0m \u001b[0mforward_call\u001b[0m\u001b[0;34m(\u001b[0m\u001b[0;34m*\u001b[0m\u001b[0minput\u001b[0m\u001b[0;34m,\u001b[0m \u001b[0;34m**\u001b[0m\u001b[0mkwargs\u001b[0m\u001b[0;34m)\u001b[0m\u001b[0;34m\u001b[0m\u001b[0;34m\u001b[0m\u001b[0m\n\u001b[0m\u001b[1;32m   1103\u001b[0m         \u001b[0;31m# Do not call functions when jit is used\u001b[0m\u001b[0;34m\u001b[0m\u001b[0;34m\u001b[0m\u001b[0;34m\u001b[0m\u001b[0m\n\u001b[1;32m   1104\u001b[0m         \u001b[0mfull_backward_hooks\u001b[0m\u001b[0;34m,\u001b[0m \u001b[0mnon_full_backward_hooks\u001b[0m \u001b[0;34m=\u001b[0m \u001b[0;34m[\u001b[0m\u001b[0;34m]\u001b[0m\u001b[0;34m,\u001b[0m \u001b[0;34m[\u001b[0m\u001b[0;34m]\u001b[0m\u001b[0;34m\u001b[0m\u001b[0;34m\u001b[0m\u001b[0m\n",
      "\u001b[0;32m~/BronchoTrack/BronchoTrack/models/bronchonet.py\u001b[0m in \u001b[0;36mforward\u001b[0;34m(self, x)\u001b[0m\n\u001b[1;32m    214\u001b[0m             \u001b[0mo\u001b[0m \u001b[0;34m=\u001b[0m \u001b[0mself\u001b[0m\u001b[0;34m.\u001b[0m\u001b[0mfusion\u001b[0m\u001b[0;34m(\u001b[0m\u001b[0moutput\u001b[0m\u001b[0;34m)\u001b[0m\u001b[0;34m\u001b[0m\u001b[0;34m\u001b[0m\u001b[0m\n\u001b[1;32m    215\u001b[0m             \u001b[0;31m# o = self.latebone(o)\u001b[0m\u001b[0;34m\u001b[0m\u001b[0;34m\u001b[0m\u001b[0;34m\u001b[0m\u001b[0m\n\u001b[0;32m--> 216\u001b[0;31m             \u001b[0mo\u001b[0m \u001b[0;34m=\u001b[0m \u001b[0mself\u001b[0m\u001b[0;34m.\u001b[0m\u001b[0mlinear1\u001b[0m\u001b[0;34m(\u001b[0m\u001b[0mo\u001b[0m\u001b[0;34m.\u001b[0m\u001b[0mview\u001b[0m\u001b[0;34m(\u001b[0m\u001b[0mo\u001b[0m\u001b[0;34m.\u001b[0m\u001b[0mshape\u001b[0m\u001b[0;34m[\u001b[0m\u001b[0;36m0\u001b[0m\u001b[0;34m]\u001b[0m\u001b[0;34m,\u001b[0m \u001b[0;34m-\u001b[0m\u001b[0;36m1\u001b[0m\u001b[0;34m)\u001b[0m\u001b[0;34m)\u001b[0m\u001b[0;34m\u001b[0m\u001b[0;34m\u001b[0m\u001b[0m\n\u001b[0m\u001b[1;32m    217\u001b[0m             \u001b[0mfeature_outputs\u001b[0m\u001b[0;34m.\u001b[0m\u001b[0mappend\u001b[0m\u001b[0;34m(\u001b[0m\u001b[0mo\u001b[0m\u001b[0;34m)\u001b[0m\u001b[0;34m\u001b[0m\u001b[0;34m\u001b[0m\u001b[0m\n\u001b[1;32m    218\u001b[0m \u001b[0;34m\u001b[0m\u001b[0m\n",
      "\u001b[0;32m~/miniconda3/envs/broncho/lib/python3.6/site-packages/torch/nn/modules/module.py\u001b[0m in \u001b[0;36m_call_impl\u001b[0;34m(self, *input, **kwargs)\u001b[0m\n\u001b[1;32m   1100\u001b[0m         if not (self._backward_hooks or self._forward_hooks or self._forward_pre_hooks or _global_backward_hooks\n\u001b[1;32m   1101\u001b[0m                 or _global_forward_hooks or _global_forward_pre_hooks):\n\u001b[0;32m-> 1102\u001b[0;31m             \u001b[0;32mreturn\u001b[0m \u001b[0mforward_call\u001b[0m\u001b[0;34m(\u001b[0m\u001b[0;34m*\u001b[0m\u001b[0minput\u001b[0m\u001b[0;34m,\u001b[0m \u001b[0;34m**\u001b[0m\u001b[0mkwargs\u001b[0m\u001b[0;34m)\u001b[0m\u001b[0;34m\u001b[0m\u001b[0;34m\u001b[0m\u001b[0m\n\u001b[0m\u001b[1;32m   1103\u001b[0m         \u001b[0;31m# Do not call functions when jit is used\u001b[0m\u001b[0;34m\u001b[0m\u001b[0;34m\u001b[0m\u001b[0;34m\u001b[0m\u001b[0m\n\u001b[1;32m   1104\u001b[0m         \u001b[0mfull_backward_hooks\u001b[0m\u001b[0;34m,\u001b[0m \u001b[0mnon_full_backward_hooks\u001b[0m \u001b[0;34m=\u001b[0m \u001b[0;34m[\u001b[0m\u001b[0;34m]\u001b[0m\u001b[0;34m,\u001b[0m \u001b[0;34m[\u001b[0m\u001b[0;34m]\u001b[0m\u001b[0;34m\u001b[0m\u001b[0;34m\u001b[0m\u001b[0m\n",
      "\u001b[0;32m~/miniconda3/envs/broncho/lib/python3.6/site-packages/torch/nn/modules/linear.py\u001b[0m in \u001b[0;36mforward\u001b[0;34m(self, input)\u001b[0m\n\u001b[1;32m    101\u001b[0m \u001b[0;34m\u001b[0m\u001b[0m\n\u001b[1;32m    102\u001b[0m     \u001b[0;32mdef\u001b[0m \u001b[0mforward\u001b[0m\u001b[0;34m(\u001b[0m\u001b[0mself\u001b[0m\u001b[0;34m,\u001b[0m \u001b[0minput\u001b[0m\u001b[0;34m:\u001b[0m \u001b[0mTensor\u001b[0m\u001b[0;34m)\u001b[0m \u001b[0;34m->\u001b[0m \u001b[0mTensor\u001b[0m\u001b[0;34m:\u001b[0m\u001b[0;34m\u001b[0m\u001b[0;34m\u001b[0m\u001b[0m\n\u001b[0;32m--> 103\u001b[0;31m         \u001b[0;32mreturn\u001b[0m \u001b[0mF\u001b[0m\u001b[0;34m.\u001b[0m\u001b[0mlinear\u001b[0m\u001b[0;34m(\u001b[0m\u001b[0minput\u001b[0m\u001b[0;34m,\u001b[0m \u001b[0mself\u001b[0m\u001b[0;34m.\u001b[0m\u001b[0mweight\u001b[0m\u001b[0;34m,\u001b[0m \u001b[0mself\u001b[0m\u001b[0;34m.\u001b[0m\u001b[0mbias\u001b[0m\u001b[0;34m)\u001b[0m\u001b[0;34m\u001b[0m\u001b[0;34m\u001b[0m\u001b[0m\n\u001b[0m\u001b[1;32m    104\u001b[0m \u001b[0;34m\u001b[0m\u001b[0m\n\u001b[1;32m    105\u001b[0m     \u001b[0;32mdef\u001b[0m \u001b[0mextra_repr\u001b[0m\u001b[0;34m(\u001b[0m\u001b[0mself\u001b[0m\u001b[0;34m)\u001b[0m \u001b[0;34m->\u001b[0m \u001b[0mstr\u001b[0m\u001b[0;34m:\u001b[0m\u001b[0;34m\u001b[0m\u001b[0;34m\u001b[0m\u001b[0m\n",
      "\u001b[0;32m~/miniconda3/envs/broncho/lib/python3.6/site-packages/torch/nn/functional.py\u001b[0m in \u001b[0;36mlinear\u001b[0;34m(input, weight, bias)\u001b[0m\n\u001b[1;32m   1846\u001b[0m     \u001b[0;32mif\u001b[0m \u001b[0mhas_torch_function_variadic\u001b[0m\u001b[0;34m(\u001b[0m\u001b[0minput\u001b[0m\u001b[0;34m,\u001b[0m \u001b[0mweight\u001b[0m\u001b[0;34m,\u001b[0m \u001b[0mbias\u001b[0m\u001b[0;34m)\u001b[0m\u001b[0;34m:\u001b[0m\u001b[0;34m\u001b[0m\u001b[0;34m\u001b[0m\u001b[0m\n\u001b[1;32m   1847\u001b[0m         \u001b[0;32mreturn\u001b[0m \u001b[0mhandle_torch_function\u001b[0m\u001b[0;34m(\u001b[0m\u001b[0mlinear\u001b[0m\u001b[0;34m,\u001b[0m \u001b[0;34m(\u001b[0m\u001b[0minput\u001b[0m\u001b[0;34m,\u001b[0m \u001b[0mweight\u001b[0m\u001b[0;34m,\u001b[0m \u001b[0mbias\u001b[0m\u001b[0;34m)\u001b[0m\u001b[0;34m,\u001b[0m \u001b[0minput\u001b[0m\u001b[0;34m,\u001b[0m \u001b[0mweight\u001b[0m\u001b[0;34m,\u001b[0m \u001b[0mbias\u001b[0m\u001b[0;34m=\u001b[0m\u001b[0mbias\u001b[0m\u001b[0;34m)\u001b[0m\u001b[0;34m\u001b[0m\u001b[0;34m\u001b[0m\u001b[0m\n\u001b[0;32m-> 1848\u001b[0;31m     \u001b[0;32mreturn\u001b[0m \u001b[0mtorch\u001b[0m\u001b[0;34m.\u001b[0m\u001b[0m_C\u001b[0m\u001b[0;34m.\u001b[0m\u001b[0m_nn\u001b[0m\u001b[0;34m.\u001b[0m\u001b[0mlinear\u001b[0m\u001b[0;34m(\u001b[0m\u001b[0minput\u001b[0m\u001b[0;34m,\u001b[0m \u001b[0mweight\u001b[0m\u001b[0;34m,\u001b[0m \u001b[0mbias\u001b[0m\u001b[0;34m)\u001b[0m\u001b[0;34m\u001b[0m\u001b[0;34m\u001b[0m\u001b[0m\n\u001b[0m\u001b[1;32m   1849\u001b[0m \u001b[0;34m\u001b[0m\u001b[0m\n\u001b[1;32m   1850\u001b[0m \u001b[0;34m\u001b[0m\u001b[0m\n",
      "\u001b[0;31mRuntimeError\u001b[0m: mat1 and mat2 shapes cannot be multiplied (1x16384 and 256x6)"
     ]
    }
   ],
   "source": [
    "compute_avg_latency(model)"
   ]
  },
  {
   "cell_type": "code",
   "execution_count": 26,
   "metadata": {},
   "outputs": [
    {
     "name": "stderr",
     "output_type": "stream",
     "text": [
      "/home/juan/miniconda3/envs/broncho/lib/python3.6/site-packages/ipykernel_launcher.py:4: TqdmDeprecationWarning: This function will be removed in tqdm==5.0.0\n",
      "Please use `tqdm.notebook.tqdm` instead of `tqdm.tqdm_notebook`\n",
      "  after removing the cwd from sys.path.\n"
     ]
    },
    {
     "data": {
      "application/vnd.jupyter.widget-view+json": {
       "model_id": "bf62a2d7ab5a418283a09ad7056d7f7b",
       "version_major": 2,
       "version_minor": 0
      },
      "text/plain": [
       "  0%|          | 0/100 [00:00<?, ?it/s]"
      ]
     },
     "metadata": {},
     "output_type": "display_data"
    },
    {
     "data": {
      "text/plain": [
       "(0.028017663955688478, 0.002162735453398334)"
      ]
     },
     "execution_count": 26,
     "metadata": {},
     "output_type": "execute_result"
    }
   ],
   "source": [
    "compute_avg_latency(model)"
   ]
  },
  {
   "cell_type": "code",
   "execution_count": 27,
   "metadata": {},
   "outputs": [
    {
     "name": "stderr",
     "output_type": "stream",
     "text": [
      "/home/juan/miniconda3/envs/broncho/lib/python3.6/site-packages/ipykernel_launcher.py:4: TqdmDeprecationWarning: This function will be removed in tqdm==5.0.0\n",
      "Please use `tqdm.notebook.tqdm` instead of `tqdm.tqdm_notebook`\n",
      "  after removing the cwd from sys.path.\n"
     ]
    },
    {
     "data": {
      "application/vnd.jupyter.widget-view+json": {
       "model_id": "e5de05bba5b244fe8bbf33fd55da509e",
       "version_major": 2,
       "version_minor": 0
      },
      "text/plain": [
       "  0%|          | 0/100 [00:00<?, ?it/s]"
      ]
     },
     "metadata": {},
     "output_type": "display_data"
    },
    {
     "data": {
      "text/plain": [
       "(0.028059961795806884, 0.0015364384959331034)"
      ]
     },
     "execution_count": 27,
     "metadata": {},
     "output_type": "execute_result"
    }
   ],
   "source": [
    "compute_avg_latency(modelt)"
   ]
  },
  {
   "cell_type": "code",
   "execution_count": 20,
   "metadata": {},
   "outputs": [
    {
     "name": "stderr",
     "output_type": "stream",
     "text": [
      "ipykernel_launcher:4: TqdmDeprecationWarning: This function will be removed in tqdm==5.0.0\n",
      "Please use `tqdm.notebook.tqdm` instead of `tqdm.tqdm_notebook`\n"
     ]
    },
    {
     "data": {
      "application/vnd.jupyter.widget-view+json": {
       "model_id": "3f6cc2eb07d24d0b98cba01c91565e9e",
       "version_major": 2,
       "version_minor": 0
      },
      "text/plain": [
       "  0%|          | 0/100 [00:00<?, ?it/s]"
      ]
     },
     "metadata": {},
     "output_type": "display_data"
    },
    {
     "data": {
      "text/plain": [
       "(0.03249024391174316, 0.05954236133072228)"
      ]
     },
     "execution_count": 20,
     "metadata": {},
     "output_type": "execute_result"
    }
   ],
   "source": [
    "compute_avg_latency(modelct)"
   ]
  },
  {
   "cell_type": "code",
   "execution_count": 3,
   "metadata": {},
   "outputs": [
    {
     "data": {
      "text/plain": [
       "14142398"
      ]
     },
     "execution_count": 3,
     "metadata": {},
     "output_type": "execute_result"
    }
   ],
   "source": [
    "sum([ p.numel() for p in modelct.parameters() if p.requires_grad])"
   ]
  },
  {
   "cell_type": "code",
   "execution_count": 6,
   "metadata": {},
   "outputs": [],
   "source": [
    "from thop import profile"
   ]
  },
  {
   "cell_type": "code",
   "execution_count": 8,
   "metadata": {},
   "outputs": [
    {
     "name": "stdout",
     "output_type": "stream",
     "text": [
      "[INFO] Register count_convNd() for <class 'torch.nn.modules.conv.Conv2d'>.\n",
      "[INFO] Register count_bn() for <class 'torch.nn.modules.batchnorm.BatchNorm2d'>.\n",
      "[INFO] Register zero_ops() for <class 'torch.nn.modules.activation.ReLU'>.\n",
      "[INFO] Register zero_ops() for <class 'torch.nn.modules.pooling.MaxPool2d'>.\n",
      "[INFO] Register zero_ops() for <class 'torch.nn.modules.container.Sequential'>.\n",
      "[INFO] Register count_adap_avgpool() for <class 'torch.nn.modules.pooling.AdaptiveAvgPool2d'>.\n",
      "[INFO] Register count_linear() for <class 'torch.nn.modules.linear.Linear'>.\n"
     ]
    },
    {
     "name": "stderr",
     "output_type": "stream",
     "text": [
      "/home/juan/miniconda3/envs/broncho/lib/python3.6/site-packages/thop/vision/basic_hooks.py:116: UserWarning: __floordiv__ is deprecated, and its behavior will change in a future version of pytorch. It currently rounds toward 0 (like the 'trunc' function NOT 'floor'). This results in incorrect rounding for negative values. To keep the current behavior, use torch.div(a, b, rounding_mode='trunc'), or for actual floor division, use torch.div(a, b, rounding_mode='floor').\n",
      "  [*(y.shape[2:])]\n"
     ]
    }
   ],
   "source": [
    "input = torch.randn(1, 2, 3, 224, 224).cuda()\n",
    "macs, params = profile(modeloff, inputs=(input, ))"
   ]
  },
  {
   "cell_type": "code",
   "execution_count": 9,
   "metadata": {},
   "outputs": [],
   "source": [
    "from thop import clever_format\n",
    "macs, params = clever_format([macs, params], \"%.3f\")"
   ]
  },
  {
   "cell_type": "code",
   "execution_count": 10,
   "metadata": {},
   "outputs": [
    {
     "data": {
      "text/plain": [
       "('14.685G', '43.607M')"
      ]
     },
     "execution_count": 10,
     "metadata": {},
     "output_type": "execute_result"
    }
   ],
   "source": [
    "macs, params"
   ]
  },
  {
   "cell_type": "markdown",
   "metadata": {},
   "source": [
    "# Cross subject acum"
   ]
  },
  {
   "cell_type": "code",
   "execution_count": 6,
   "metadata": {},
   "outputs": [],
   "source": [
    "import glob, os, pandas as pd, numpy as np, torch, math\n",
    "from tqdm import tqdm\n",
    "from BronchoTrack import metrics\n",
    "from torch import nn\n",
    "\n",
    "def compute_metrics_acum(folders):\n",
    "    aape, aade, aane, aace, aamse, aaqe, aamset = [], [], [], [], [], [], []\n",
    "    for folder in folders:\n",
    "        for pred_path in tqdm(glob.glob(folder + \"*.csv\")):\n",
    "            df = pd.read_csv(pred_path, index_col=0)\n",
    "            acum = df.cumsum()\n",
    "            pos_preds = torch.from_numpy(acum.loc[acum.index[-1], [\"shift_x\", \"shift_y\", \"shift_z\"]].values)\n",
    "            pos_targets = torch.from_numpy(acum.loc[acum.index[-1], [\"gt_shift_x\", \"gt_shift_y\", \"gt_shift_z\"]].values)\n",
    "            aape.append(metrics.EuclideanDistance.euclidean(pos_preds, pos_targets).numpy())\n",
    "            rot_targets = acum.loc[acum.index[-1], [\"gt_Rx_dif\", \"gt_Ry_dif\", \"gt_Rz_dif\"]].values\n",
    "            rot_preds = acum.loc[acum.index[-1], [\"Rx_dif\", \"Ry_dif\", \"Rz_dif\"]].values\n",
    "            rot_targets = torch.from_numpy(rot_targets)\n",
    "            rot_preds = torch.from_numpy(rot_preds)\n",
    "            aade.append(metrics.DirectionError.inverse_cos(rot_preds, rot_targets))\n",
    "            aane.append(metrics.NeedleError.needle(torch.hstack([pos_preds, rot_preds]), torch.hstack([pos_targets, rot_targets]), distance=5))\n",
    "            cse = metrics.CosMetric()\n",
    "            cse.update(rot_preds, rot_targets)\n",
    "            aace.append(cse.compute())\n",
    "            q = metrics.QuatMetric()\n",
    "            q.update(rot_preds, rot_targets)\n",
    "            aaqe.append(q.compute())\n",
    "            m = metrics.MSE()\n",
    "            m.update(rot_preds, rot_targets)\n",
    "            aamse.append(m.compute())\n",
    "            ms = metrics.EuclideanDistance()\n",
    "            ms.update(rot_preds, rot_targets)\n",
    "            aamset.append(ms.compute())\n",
    "    return \"AAPE {} +- {}, AADE {} +- {}, AANE {} +- {} AACE {} +- {} AAMSE {} +- {} AAQE {} +- {} AAMSE2 {} +- {}\".format(\n",
    "        np.mean(aape), np.std(aape), np.mean(aade), np.std(aade), np.mean(aane), np.std(aane), np.mean(aace), np.std(aace),\n",
    "        np.mean(aamse), np.std(aamse), np.mean(aaqe), np.std(aaqe), np.mean(aamset), np.std(aamset))"
   ]
  },
  {
   "cell_type": "code",
   "execution_count": 10,
   "metadata": {},
   "outputs": [
    {
     "name": "stdout",
     "output_type": "stream",
     "text": [
      "['data/cleaned/all_outer/preds_outer_P20_model_doublelate3d_loss_mse/', 'data/cleaned/all_outer/preds_outer_P30_model_doublelate3d_loss_mse/', 'data/cleaned/all_outer/preds_outer_P18_model_doublelate3d_loss_mse/', 'data/cleaned/all_outer/preds_outer_P21_model_doublelate3d_loss_mse/', 'data/cleaned/all_outer/preds_outer_P25_model_doublelate3d_loss_mse/']\n"
     ]
    },
    {
     "name": "stderr",
     "output_type": "stream",
     "text": [
      "100%|██████████| 60/60 [00:00<00:00, 171.67it/s]\n",
      "100%|██████████| 60/60 [00:00<00:00, 183.57it/s]\n",
      "100%|██████████| 60/60 [00:00<00:00, 182.66it/s]\n",
      "100%|██████████| 60/60 [00:00<00:00, 183.05it/s]\n",
      "100%|██████████| 60/60 [00:00<00:00, 183.53it/s]"
     ]
    },
    {
     "name": "stdout",
     "output_type": "stream",
     "text": [
      "AAPE 18.245185363661033 +- 8.158070239513572, AADE 1.5837502060292499 +- 0.7343845994917435, AANE 19.2106833783095 +- 8.468442244945606 AACE 0.7175427079200745 +- 0.35592326521873474 AAMSE 1112.3828125 +- 4590.41455078125 AAQE 1.357682228088379 +- 0.4473152756690979 AAMSE2 24.104469299316406 +- 52.49878692626953\n",
      "\n",
      "\n",
      "\n"
     ]
    },
    {
     "name": "stderr",
     "output_type": "stream",
     "text": [
      "\n"
     ]
    }
   ],
   "source": [
    "folders = glob.glob(\"data/cleaned/all_outer/preds_outer_*_doublelate3d_*/\")\n",
    "print(folders)\n",
    "print(compute_metrics_acum(folders))\n",
    "print(\"\\n\\n\")"
   ]
  },
  {
   "cell_type": "markdown",
   "metadata": {},
   "source": [
    "# Cross subject mean"
   ]
  },
  {
   "cell_type": "code",
   "execution_count": 11,
   "metadata": {},
   "outputs": [],
   "source": [
    "def compute_metrics(folder):\n",
    "    aape, aade, aane, aace, aamse, aaqe, aamset, aamset3 = [], [], [], [], [], [], [], []\n",
    "    for folder in folders:\n",
    "        for pred_path in tqdm(glob.glob(folder+ \"*.csv\")):\n",
    "            df = pd.read_csv(pred_path, index_col=0)\n",
    "            for row, data in df.iterrows():\n",
    "                pos_preds = torch.from_numpy(data[[\"shift_x\", \"shift_y\", \"shift_z\"]].values)\n",
    "                pos_targets = torch.from_numpy(data[[\"gt_shift_x\", \"gt_shift_y\", \"gt_shift_z\"]].values)\n",
    "                aape.append(metrics.EuclideanDistance.euclidean(pos_preds, pos_targets).numpy())\n",
    "                rot_targets = data[[\"gt_Rx_dif\", \"gt_Ry_dif\", \"gt_Rz_dif\"]].values\n",
    "                rot_preds = data[[\"Rx_dif\", \"Ry_dif\", \"Rz_dif\"]].values\n",
    "                rot_targets = torch.from_numpy(rot_targets)\n",
    "                rot_preds = torch.from_numpy(rot_preds)\n",
    "                aade.append(metrics.DirectionError.inverse_cos(rot_preds, rot_targets))\n",
    "                aane.append(metrics.NeedleError.needle(torch.hstack([pos_preds, rot_preds]), torch.hstack([pos_targets, rot_targets]), distance=3))\n",
    "                cse = metrics.CosMetric()\n",
    "                cse.update(rot_preds, rot_targets)\n",
    "                aace.append(cse.compute())\n",
    "                q = metrics.QuatMetric()\n",
    "                q.update(rot_preds, rot_targets)\n",
    "                aaqe.append(q.compute())\n",
    "                m = metrics.MSE()\n",
    "                m.update(rot_preds, rot_targets)\n",
    "                aamse.append(m.compute())\n",
    "                ms = metrics.EuclideanDistance()\n",
    "                ms.update(rot_preds, rot_targets)\n",
    "                aamset.append(ms.compute())\n",
    "                m.reset(), ms.reset(), cse.reset() \n",
    "                ll = nn.MSELoss()\n",
    "                aamset3.append(ll(rot_preds, rot_targets))\n",
    "    return \"AAPE {} +- {}, AADE {} +- {}, AANE {} +- {} AACE {} +- {} AAMSE {} +- {} AAQE {} +- {} AAMSE2 {} +- {} AAMSE3 {} +- {}\".format(\n",
    "        np.mean(aape), np.std(aape), np.mean(aade), np.std(aade), np.mean(aane), np.std(aane), np.mean(aace), np.std(aace),\n",
    "        np.mean(aamse), np.std(aamse), np.mean(aaqe), np.std(aaqe), np.mean(aamset), np.std(aamset), np.mean(aamset3), np.std(aamset3) )"
   ]
  },
  {
   "cell_type": "code",
   "execution_count": 14,
   "metadata": {},
   "outputs": [
    {
     "name": "stdout",
     "output_type": "stream",
     "text": [
      "['data/cleaned/all_outer/preds_outer_P20_model_doublelate3d_loss_mse/', 'data/cleaned/all_outer/preds_outer_P30_model_doublelate3d_loss_mse/', 'data/cleaned/all_outer/preds_outer_P18_model_doublelate3d_loss_mse/', 'data/cleaned/all_outer/preds_outer_P21_model_doublelate3d_loss_mse/', 'data/cleaned/all_outer/preds_outer_P25_model_doublelate3d_loss_mse/']\n"
     ]
    },
    {
     "name": "stderr",
     "output_type": "stream",
     "text": [
      "100%|██████████| 60/60 [00:13<00:00,  4.32it/s]\n",
      "100%|██████████| 60/60 [00:08<00:00,  6.86it/s]\n",
      "100%|██████████| 60/60 [00:13<00:00,  4.61it/s]\n",
      "100%|██████████| 60/60 [00:07<00:00,  8.14it/s]\n",
      "100%|██████████| 60/60 [00:07<00:00,  8.53it/s]\n"
     ]
    },
    {
     "name": "stdout",
     "output_type": "stream",
     "text": [
      "AAPE 0.7114064937362017 +- 0.3393738549947833, AADE 0.7399739287277504 +- 0.547025555708217, AANE 2.212906160303557 +- 1.3519748053809486 AACE 0.1724420189857483 +- 0.20338161289691925 AAMSE 33.27992630004883 +- 1081.2686767578125 AAQE 0.6641477942466736 +- 0.39331161975860596 AAMSE2 1.3146730661392212 +- 9.905120849609375 AAMSE3 33.279925538216354 +- 1081.2687085392918\n",
      "\n",
      "\n",
      "\n"
     ]
    }
   ],
   "source": [
    "folders = glob.glob(\"data/cleaned/all_outer/preds_outer_*_doublelate3d_*/\")\n",
    "\n",
    "print(folders)\n",
    "print(compute_metrics(folders))\n",
    "print(\"\\n\\n\")"
   ]
  },
  {
   "cell_type": "markdown",
   "metadata": {},
   "source": [
    "# Compute direction error on indexes"
   ]
  },
  {
   "cell_type": "code",
   "execution_count": 17,
   "metadata": {},
   "outputs": [],
   "source": [
    "import pandas as pd\n",
    "from tqdm import tqdm_notebook as tqdm\n",
    "import torch\n",
    "from BronchoTrack import metrics\n",
    "import numpy as np"
   ]
  },
  {
   "cell_type": "code",
   "execution_count": 20,
   "metadata": {},
   "outputs": [],
   "source": [
    "def add_metrics(df_x):\n",
    "    df_x[\"Direction Error\"], df_x[\"Direction Error X\"], df_x[\"Direction Error Y\"], df_x[\"Direction Error Z\"] = 0.0, 0.0, 0.0, 0.0\n",
    "    for row, data in df_x.iterrows():\n",
    "            rot_targets = data[[\"gt_Rx_dif\", \"gt_Ry_dif\", \"gt_Rz_dif\"]].values\n",
    "            rot_preds = data[[\"Rx_dif\", \"Ry_dif\", \"Rz_dif\"]].values\n",
    "            rot_targets = torch.from_numpy(rot_targets)\n",
    "            rot_preds = torch.from_numpy(rot_preds)\n",
    "            df_x.loc[row, \"Direction Error X\"] = metrics.DirectionError.inverse_cos(rot_preds, rot_targets).numpy()\n",
    "            df_x.loc[row, \"Direction Error Y\"] = metrics.DirectionError.inverse_cos(rot_preds, rot_targets, axis=1).numpy()\n",
    "            df_x.loc[row, \"Direction Error Z\"] = metrics.DirectionError.inverse_cos(rot_preds, rot_targets, axis=2).numpy()\n",
    "            df_x.loc[row, \"Direction Error\"] = np.mean([df_x.loc[row, \"Direction Error Z\"], df_x.loc[row, \"Direction Error X\"], df_x.loc[row, \"Direction Error Y\"]])\n",
    "    return df_x\n",
    "\n",
    "def add_info(df_x, filename, folder):\n",
    "    df_x[\"Patient\"] = filename.split(\"_\")[1]\n",
    "    df_x[\"Lobe\"] = filename.split(\"_\")[-2]\n",
    "    df_x[\"Trajectory\"] = filename.split(\"_\")[-1].split(\".\")[0]\n",
    "    df_x[\"Loss\"] = folder.split(\"_\")[-1]\n",
    "    df_x[\"Architecture\"] = folder.split(\"_\")[-3]\n",
    "    return df_x"
   ]
  },
  {
   "cell_type": "code",
   "execution_count": 21,
   "metadata": {},
   "outputs": [
    {
     "name": "stderr",
     "output_type": "stream",
     "text": [
      "/home/juan/miniconda3/envs/broncho/lib/python3.6/site-packages/ipykernel_launcher.py:4: TqdmDeprecationWarning: This function will be removed in tqdm==5.0.0\n",
      "Please use `tqdm.notebook.tqdm` instead of `tqdm.tqdm_notebook`\n",
      "  after removing the cwd from sys.path.\n"
     ]
    },
    {
     "data": {
      "application/vnd.jupyter.widget-view+json": {
       "model_id": "f1fdd78a3b3d481e93b5ed2f20515338",
       "version_major": 2,
       "version_minor": 0
      },
      "text/plain": [
       "  0%|          | 0/6 [00:00<?, ?it/s]"
      ]
     },
     "metadata": {},
     "output_type": "display_data"
    }
   ],
   "source": [
    "root = \"./data/cleaned/final_test/\"\n",
    "dest = \"./data/cleaned/final_test/\"\n",
    "final_csv = pd.DataFrame()\n",
    "for folder in tqdm(os.listdir(root)):\n",
    "    subfolder = os.path.join(root, folder)\n",
    "    if os.path.isdir(subfolder) and \"preds\" in subfolder:\n",
    "        name = \"bronchonet\" if \"broncho\" in folder else \"offsetnet\"\n",
    "        dest_folder = os.path.join(root, name)\n",
    "        os.makedirs(dest_folder, exist_ok=True)\n",
    "        for file in os.listdir(subfolder):\n",
    "            df_sample = pd.read_csv(os.path.join(subfolder, file), index_col=0) \n",
    "            df_sample = add_metrics(df_sample)\n",
    "            df_sample = add_info(df_sample, file, folder)\n",
    "            final_csv = df_sample.to_csv(os.path.join(dest_folder, file))"
   ]
  },
  {
   "cell_type": "code",
   "execution_count": null,
   "metadata": {},
   "outputs": [],
   "source": []
  }
 ],
 "metadata": {
  "interpreter": {
   "hash": "e63eb8d25f1b31bafc569ae200f56f145b0d2b6d661b753dfd880c43b223cf6b"
  },
  "kernelspec": {
   "display_name": "Python 3.6.13 64-bit ('broncho': conda)",
   "name": "python3"
  },
  "language_info": {
   "codemirror_mode": {
    "name": "ipython",
    "version": 3
   },
   "file_extension": ".py",
   "mimetype": "text/x-python",
   "name": "python",
   "nbconvert_exporter": "python",
   "pygments_lexer": "ipython3",
   "version": "3.6.13"
  },
  "orig_nbformat": 4
 },
 "nbformat": 4,
 "nbformat_minor": 2
}

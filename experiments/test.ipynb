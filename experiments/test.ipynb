{
 "cells": [
  {
   "cell_type": "markdown",
   "metadata": {},
   "source": [
    "# Test results\n",
    "\n",
    "With folder `data/cleaned/preds`, we can obtain the results for the position and error metrics but in an accumulated version and not as an average."
   ]
  },
  {
   "cell_type": "code",
   "execution_count": 2,
   "metadata": {},
   "outputs": [],
   "source": [
    "import glob, os, pandas as pd, numpy as np, torch, math\n",
    "from tqdm import tqdm\n",
    "from BronchoTrack import metrics\n",
    "\n",
    "def compute_metrics_acum(folder):\n",
    "    aape, aade, aane, aace, aamse, aaqe = [], [], [], [], [], []\n",
    "    for pred_path in tqdm(glob.glob(folder)):\n",
    "        df = pd.read_csv(pred_path, index_col=0)\n",
    "        acum = df.cumsum()\n",
    "        pos_preds = torch.from_numpy(acum.loc[acum.index[-1], [\"shift_x\", \"shift_y\", \"shift_z\"]].values)\n",
    "        pos_targets = torch.from_numpy(acum.loc[acum.index[-1], [\"gt_shift_x\", \"gt_shift_y\", \"gt_shift_z\"]].values)\n",
    "        aape.append(metrics.EuclideanDistance.euclidean(pos_preds, pos_targets).numpy())\n",
    "        rot_targets = acum.loc[acum.index[-1], [\"gt_Rx_dif\", \"gt_Ry_dif\", \"gt_Rz_dif\"]].values\n",
    "        rot_preds = acum.loc[acum.index[-1], [\"Rx_dif\", \"Ry_dif\", \"Rz_dif\"]].values\n",
    "        rot_targets = torch.from_numpy(rot_targets)\n",
    "        rot_preds = torch.from_numpy(rot_preds)\n",
    "        aade.append(metrics.DirectionError.inverse_cos(rot_preds, rot_targets))\n",
    "        aane.append(metrics.NeedleError.needle(torch.hstack([pos_preds, rot_preds]), torch.hstack([pos_targets, rot_targets]), distance=5))\n",
    "        cse = metrics.CosMetric()\n",
    "        cse.update(rot_preds, rot_targets)\n",
    "        aace.append(cse.compute())\n",
    "        q = metrics.QuatMetric()\n",
    "        q.update(rot_preds, rot_targets)\n",
    "        aaqe.append(q.compute())\n",
    "        m = metrics.MSE()\n",
    "        m.update(rot_preds, rot_targets)\n",
    "        aamse.append(m.compute())\n",
    "    return \"AAPE {} +- {}, AADE {} +- {}, AANE {} +- {} AACE {} +- {} AAMSE {} +- {} AAQE {} +- {}\".format(\n",
    "        np.mean(aape), np.std(aape), np.mean(aade), np.std(aade), np.mean(aane), np.std(aane), np.mean(aace), np.std(aace),\n",
    "        np.mean(aamse), np.std(aamse), np.mean(aaqe), np.std(aaqe))"
   ]
  },
  {
   "cell_type": "code",
   "execution_count": 15,
   "metadata": {},
   "outputs": [
    {
     "name": "stderr",
     "output_type": "stream",
     "text": [
      "100%|██████████| 120/120 [00:00<00:00, 174.47it/s]\n",
      "100%|██████████| 120/120 [00:00<00:00, 193.27it/s]\n",
      "100%|██████████| 120/120 [00:00<00:00, 195.38it/s]\n",
      "100%|██████████| 120/120 [00:00<00:00, 203.34it/s]\n",
      "/home/juan/miniconda3/envs/broncho/lib/python3.6/site-packages/numpy/core/_methods.py:202: RuntimeWarning: invalid value encountered in subtract\n",
      "  x = asanyarray(arr - arrmean)\n",
      "100%|██████████| 120/120 [00:00<00:00, 195.90it/s]\n"
     ]
    },
    {
     "data": {
      "text/plain": [
       "('AAPE 13.835903226179187 +- 5.759193861172195, AADE 1.5742343056554189 +- 0.6551976729299223, AANE 15.376781348145277 +- 6.102938251610644 AACE 0.94476717710495 +- 0.40410280227661133 AAMSE 330.4622497558594 +- 1490.69140625 AAQE 1.225030779838562 +- 0.4022783935070038',\n",
       " 'AAPE 2.7214844740006536 +- 1.617503149440687, AADE 1.5950016855184932 +- 0.7031537380339785, AANE 7.131795900345185 +- 2.6656356540799773 AACE 0.6926049590110779 +- 0.3571860194206238 AAMSE 1175.4071044921875 +- 4128.2587890625 AAQE 1.4041533470153809 +- 0.42319968342781067',\n",
       " 'AAPE 3.8744685928356146 +- 2.1056544343301424, AADE 1.5879705693521076 +- 0.6207517413373088, AANE 7.937667314923589 +- 2.789065596879322 AACE 0.9652023911476135 +- 0.37166428565979004 AAMSE 1354.478515625 +- 4346.8916015625 AAQE 1.250084400177002 +- 0.36366134881973267',\n",
       " 'AAPE nan +- nan, AADE nan +- nan, AANE nan +- nan AACE nan +- nan AAMSE nan +- nan AAQE inf +- nan',\n",
       " 'AAPE 2.2824132663835672 +- 1.3827900781865636, AADE 1.561331455571039 +- 0.7171594591731699, AANE 7.0413675222428385 +- 2.6280190317126864 AACE 0.7375786304473877 +- 0.3506477475166321 AAMSE 1155.59423828125 +- 4044.8564453125 AAQE 1.324593424797058 +- 0.418058842420578')"
      ]
     },
     "execution_count": 15,
     "metadata": {},
     "output_type": "execute_result"
    }
   ],
   "source": [
    "compute_metrics_acum(\"data/cleaned/preds_30traj_MSE/*.csv\"), compute_metrics_acum(\"data/cleaned/preds_30traj_COS/*.csv\"), compute_metrics_acum(\"data/cleaned/preds_30traj_DE/*.csv\"), compute_metrics_acum(\"data/cleaned/preds_30traj_QUAT/*.csv\"), compute_metrics_acum(\"data/cleaned/preds_30traj_COS_EU/*.csv\")"
   ]
  },
  {
   "cell_type": "code",
   "execution_count": 3,
   "metadata": {},
   "outputs": [],
   "source": [
    "def compute_metrics(folder):\n",
    "    aape, aade, aane, aace, aamse, aaqe = [], [], [], [], [], []\n",
    "    for pred_path in tqdm(glob.glob(folder)):\n",
    "        df = pd.read_csv(pred_path, index_col=0)\n",
    "        for row, data in df.iterrows():\n",
    "            pos_preds = torch.from_numpy(data[[\"shift_x\", \"shift_y\", \"shift_z\"]].values)\n",
    "            pos_targets = torch.from_numpy(data[[\"gt_shift_x\", \"gt_shift_y\", \"gt_shift_z\"]].values)\n",
    "            aape.append(metrics.EuclideanDistance.euclidean(pos_preds, pos_targets).numpy())\n",
    "            rot_targets = data[[\"gt_Rx_dif\", \"gt_Ry_dif\", \"gt_Rz_dif\"]].values\n",
    "            rot_preds = data[[\"Rx_dif\", \"Ry_dif\", \"Rz_dif\"]].values\n",
    "            rot_targets = torch.from_numpy(rot_targets)\n",
    "            rot_preds = torch.from_numpy(rot_preds)\n",
    "            aade.append(metrics.DirectionError.inverse_cos(rot_preds, rot_targets))\n",
    "            aane.append(metrics.NeedleError.needle(torch.hstack([pos_preds, rot_preds]), torch.hstack([pos_targets, rot_targets]), distance=3))\n",
    "            cse = metrics.CosMetric()\n",
    "            cse.update(rot_preds, rot_targets)\n",
    "            aace.append(cse.compute())\n",
    "            q = metrics.QuatMetric()\n",
    "            q.update(rot_preds, rot_targets)\n",
    "            aaqe.append(q.compute())\n",
    "            m = metrics.MSE()\n",
    "            m.update(rot_preds, rot_targets)\n",
    "            aamse.append(m.compute())\n",
    "    return \"AAPE {} +- {}, AADE {} +- {}, AANE {} +- {} AACE {} +- {} AAMSE {} +- {} AAQE {} +- {}\".format(\n",
    "        np.mean(aape), np.std(aape), np.mean(aade), np.std(aade), np.mean(aane), np.std(aane), np.mean(aace), np.std(aace),\n",
    "        np.mean(aamse), np.std(aamse), np.mean(aaqe), np.std(aaqe))"
   ]
  },
  {
   "cell_type": "code",
   "execution_count": 13,
   "metadata": {},
   "outputs": [
    {
     "name": "stderr",
     "output_type": "stream",
     "text": [
      "100%|██████████| 480/480 [01:33<00:00,  5.14it/s]\n"
     ]
    },
    {
     "data": {
      "text/plain": [
       "'AAPE 0.741318184442516 +- 0.33942156852382965, AADE 0.9163618778503371 +- 0.6556021034026633, AANE 2.639044526232093 +- 1.5604850960864711 AACE 0.27053242921829224 +- 0.2927328646183014 AAMSE 1.7874747514724731 +- 4.655580520629883 AAQE 0.8203817009925842 +- 0.5043652653694153'"
      ]
     },
     "execution_count": 13,
     "metadata": {},
     "output_type": "execute_result"
    }
   ],
   "source": [
    "compute_metrics(\"data/cleaned/data_increase/outer_120/preds_120traj_COS_EU_inter_P18/*.csv\")"
   ]
  },
  {
   "cell_type": "code",
   "execution_count": 18,
   "metadata": {},
   "outputs": [
    {
     "name": "stderr",
     "output_type": "stream",
     "text": [
      "100%|██████████| 120/120 [00:17<00:00,  6.91it/s]\n",
      "100%|██████████| 120/120 [00:17<00:00,  6.93it/s]\n",
      "100%|██████████| 120/120 [00:17<00:00,  6.91it/s]\n",
      "100%|██████████| 120/120 [00:17<00:00,  6.97it/s]\n",
      "100%|██████████| 120/120 [00:17<00:00,  6.93it/s]\n"
     ]
    },
    {
     "data": {
      "text/plain": [
       "('AAPE 0.5491277217666873 +- 0.573653173740771, AADE 0.7248276525217127 +- 0.498294865650828, AANE 2.133701451221059 +- 1.3643027063455693 AACE 0.17344273626804352 +- 0.19498062133789062 AAMSE 15.751633644104004 +- 455.8465576171875 AAQE 0.6379731297492981 +- 0.3691841959953308',\n",
       " 'AAPE 0.2646646795385093 +- 0.16944264858997296, AADE 0.5428455738276546 +- 0.5032078981195843, AANE 1.5545040837767403 +- 1.2577643932778806 AACE 0.11609118431806564 +- 0.18177255988121033 AAMSE 25.304031372070312 +- 711.93359375 AAQE 0.6825854182243347 +- 0.4137953817844391',\n",
       " 'AAPE 0.3682859682206188 +- 0.1913224449289966, AADE 0.713015618811532 +- 0.5331496554219437, AANE 2.0406247662187673 +- 1.3392663732322747 AACE 0.43466493487358093 +- 0.3853222131729126 AAMSE 26.017972946166992 +- 706.2825927734375 AAQE 0.749027669429779 +- 0.5646618604660034',\n",
       " 'AAPE nan +- nan, AADE nan +- nan, AANE nan +- nan AACE nan +- nan AAMSE nan +- nan AAQE inf +- nan',\n",
       " 'AAPE 0.25759985880518227 +- 0.16911057809014685, AADE 0.6090510067153763 +- 0.519069685510218, AANE 1.7325349993410406 +- 1.2947521430792868 AACE 0.1372804343700409 +- 0.19212497770786285 AAMSE 25.229997634887695 +- 707.8998413085938 AAQE 0.6943621635437012 +- 0.41772815585136414')"
      ]
     },
     "execution_count": 18,
     "metadata": {},
     "output_type": "execute_result"
    }
   ],
   "source": [
    "compute_metrics(\"data/cleaned/preds_30traj_MSE/*.csv\"), compute_metrics(\"data/cleaned/preds_30traj_COS/*.csv\"), compute_metrics(\"data/cleaned/preds_30traj_DE/*.csv\"), compute_metrics(\"data/cleaned/preds_30traj_QUAT/*.csv\"), compute_metrics(\"data/cleaned/preds_30traj_COS_EU/*.csv\")"
   ]
  },
  {
   "cell_type": "markdown",
   "metadata": {},
   "source": [
    " ## Results loss cross patient"
   ]
  },
  {
   "cell_type": "code",
   "execution_count": 36,
   "metadata": {},
   "outputs": [],
   "source": [
    "from collections import defaultdict"
   ]
  },
  {
   "cell_type": "code",
   "execution_count": 50,
   "metadata": {},
   "outputs": [],
   "source": [
    "def compute_errors(root=\"./data/cleaned/preds_round_1/\", losses=[\"COS\", \"MSE\", \"DE\", \"QUAT\"]):\n",
    "    subfolders = {i: [os.path.join(root, folder)  for folder in os.listdir(root) if i in folder] for i in losses}\n",
    "    submetrics = {i: defaultdict(list) for i in losses}\n",
    "    for loss in tqdm(losses):\n",
    "        for subfolder in subfolders[loss]:\n",
    "            for file in os.listdir(subfolder):\n",
    "                df_sample = pd.read_csv(os.path.join(subfolder, file), index_col=0)\n",
    "                for row, data in df_sample.iterrows():\n",
    "                    pos_preds = torch.from_numpy(data[[\"shift_x\", \"shift_y\", \"shift_z\"]].values)\n",
    "                    pos_targets = torch.from_numpy(data[[\"gt_shift_x\", \"gt_shift_y\", \"gt_shift_z\"]].values)\n",
    "                    submetrics[loss][\"AAPE\"].append(metrics.EuclideanDistance.euclidean(pos_preds, pos_targets).numpy())\n",
    "                    rot_targets = data[[\"gt_Rx_dif\", \"gt_Ry_dif\", \"gt_Rz_dif\"]].values\n",
    "                    rot_preds = data[[\"Rx_dif\", \"Ry_dif\", \"Rz_dif\"]].values\n",
    "                    rot_targets = torch.from_numpy(rot_targets)\n",
    "                    rot_preds = torch.from_numpy(rot_preds)\n",
    "                    submetrics[loss][\"AADE\"].append(metrics.DirectionError.inverse_cos(rot_preds, rot_targets).numpy())\n",
    "                    submetrics[loss][\"AANE\"].append(metrics.NeedleError.needle(torch.hstack([pos_preds, rot_preds]), torch.hstack([pos_targets, rot_targets]), distance=3).numpy())\n",
    "        submetrics[loss][\"AAPE\"] = (np.mean(submetrics[loss][\"AAPE\"]), np.std(submetrics[loss][\"AAPE\"]))\n",
    "        submetrics[loss][\"AADE\"] = (np.mean(submetrics[loss][\"AADE\"]), np.std(submetrics[loss][\"AADE\"]))\n",
    "        submetrics[loss][\"AANE\"] = (np.mean(submetrics[loss][\"AANE\"]), np.std(submetrics[loss][\"AANE\"]))\n",
    "    return submetrics\n",
    "        \n"
   ]
  },
  {
   "cell_type": "code",
   "execution_count": 51,
   "metadata": {},
   "outputs": [
    {
     "data": {
      "application/vnd.jupyter.widget-view+json": {
       "model_id": "c7747927e79f49d0b460c85aab6b581b",
       "version_major": 2,
       "version_minor": 0
      },
      "text/plain": [
       "  0%|          | 0/4 [00:00<?, ?it/s]"
      ]
     },
     "metadata": {},
     "output_type": "display_data"
    }
   ],
   "source": [
    "results = compute_errors()"
   ]
  },
  {
   "cell_type": "code",
   "execution_count": 52,
   "metadata": {},
   "outputs": [
    {
     "data": {
      "text/plain": [
       "{'COS': defaultdict(list,\n",
       "             {'AAPE': (0.7378152121278749, 0.4505294373549075),\n",
       "              'AADE': (1.1975325795102736, 0.7669386701924008),\n",
       "              'AANE': (3.253374431203741, 1.6608348329290958)}),\n",
       " 'MSE': defaultdict(list,\n",
       "             {'AAPE': (0.7555466617392615, 0.4499440452227794),\n",
       "              'AADE': (1.2367228395662788, 0.7639783827566352),\n",
       "              'AANE': (3.3043340700818193, 1.6125088852780254)}),\n",
       " 'DE': defaultdict(list,\n",
       "             {'AAPE': (0.7390488814078968, 0.4434353750507124),\n",
       "              'AADE': (1.2119055731497668, 0.7702147501155583),\n",
       "              'AANE': (3.2856565743090784, 1.666478388639561)}),\n",
       " 'QUAT': defaultdict(list,\n",
       "             {'AAPE': (0.7443752694683445, 0.44549288678195853),\n",
       "              'AADE': (1.332005785650499, 0.6744398102944591),\n",
       "              'AANE': (3.6061799354533117, 1.4897843823402674)})}"
      ]
     },
     "execution_count": 52,
     "metadata": {},
     "output_type": "execute_result"
    }
   ],
   "source": [
    "results"
   ]
  },
  {
   "cell_type": "markdown",
   "metadata": {},
   "source": [
    "# Build docs for Debora"
   ]
  },
  {
   "cell_type": "code",
   "execution_count": 21,
   "metadata": {},
   "outputs": [],
   "source": [
    "import pandas as pd\n",
    "import numpy as np\n",
    "import os\n",
    "from tqdm.notebook import tqdm\n",
    "import torch\n",
    "from BronchoTrack import metrics"
   ]
  },
  {
   "cell_type": "code",
   "execution_count": 31,
   "metadata": {},
   "outputs": [],
   "source": [
    "def add_metrics(df_x):\n",
    "    df_x[\"Direction Error\"], df_x[\"Pos Error (Euclidean)\"], df_x[\"Needle Error\"], df_x[\"Cosinus Error\"], df_x[\"Cosinus X Error\"] = 0.0, 0.0, 0.0, 0.0, 0.0\n",
    "    df_x[\"Cosinus Y Error\"], df_x[\"Cosinus Z Error\"], df_x[\"MSE\"], df_x[\"Quaternion Error\"] = 0.0, 0.0, 0.0, 0.0\n",
    "    for row, data in df_x.iterrows():\n",
    "            pos_preds = torch.from_numpy(data[[\"shift_x\", \"shift_y\", \"shift_z\"]].values)\n",
    "            pos_targets = torch.from_numpy(data[[\"gt_shift_x\", \"gt_shift_y\", \"gt_shift_z\"]].values)\n",
    "            df_x.loc[row, \"Pos Error\"] = metrics.EuclideanDistance.euclidean(pos_preds, pos_targets).numpy()\n",
    "            rot_targets = data[[\"gt_Rx_dif\", \"gt_Ry_dif\", \"gt_Rz_dif\"]].values\n",
    "            rot_preds = data[[\"Rx_dif\", \"Ry_dif\", \"Rz_dif\"]].values\n",
    "            rot_targets = torch.from_numpy(rot_targets)\n",
    "            rot_preds = torch.from_numpy(rot_preds)\n",
    "            df_x.loc[row, \"Direction Error\"] = metrics.DirectionError.inverse_cos(rot_preds, rot_targets).numpy()\n",
    "            df_x.loc[row, \"Needle Error\"] = metrics.NeedleError.needle(torch.hstack([pos_preds, rot_preds]), torch.hstack([pos_targets, rot_targets]), distance=3).numpy()\n",
    "            cse = metrics.CosMetric()\n",
    "            cse.update(rot_preds, rot_targets)\n",
    "            df_x.loc[row, \"Cosinus Error\"] = cse.compute().numpy()\n",
    "            q = metrics.QuatMetric()\n",
    "            q.update(rot_preds, rot_targets)\n",
    "            df_x.loc[row, \"Quaternion Error \"] = q.compute().numpy()\n",
    "            m = metrics.MSE()\n",
    "            m.update(rot_preds, rot_targets)\n",
    "            df_x.loc[row, \"MSE\"] = m.compute().numpy()\n",
    "            cse_x = metrics.CosMetric(0)\n",
    "            cse_x.update(rot_preds, rot_targets)\n",
    "            df_x.loc[row, \"Cosinus X Error\"] = cse_x.compute().numpy()\n",
    "            cse_y = metrics.CosMetric(1)\n",
    "            cse_y.update(rot_preds, rot_targets)\n",
    "            df_x.loc[row, \"Cosinus Y Error\"] = cse_y.compute().numpy()\n",
    "            cse_z = metrics.CosMetric(2)\n",
    "            cse_z.update(rot_preds, rot_targets)\n",
    "            df_x.loc[row, \"Cosinus Z Error\"] = cse_z.compute().numpy()\n",
    "    return df_x\n",
    "\n",
    "\n",
    "def add_info(df_x, filename, folder):\n",
    "    df_x[\"Patient\"] = filename.split(\"_\")[1]\n",
    "    df_x[\"Lobe\"] = filename.split(\"_\")[-2]\n",
    "    df_x[\"Trajectory\"] = filename.split(\"_\")[-1].split(\".\")[0]\n",
    "    df_x[\"Loss\"] = folder.split(\"_\")[-2]\n",
    "    return df_x"
   ]
  },
  {
   "cell_type": "code",
   "execution_count": 32,
   "metadata": {},
   "outputs": [
    {
     "name": "stderr",
     "output_type": "stream",
     "text": [
      "100%|██████████| 7/7 [01:55<00:00, 16.52s/it]\n"
     ]
    }
   ],
   "source": [
    "root = \"./data/cleaned/loss_intra/\"\n",
    "final_csv = pd.DataFrame()\n",
    "for folder in tqdm(os.listdir(root)):\n",
    "    subfolder = os.path.join(root, folder)\n",
    "    if os.path.isdir(subfolder) and \"preds\" in subfolder:\n",
    "        for file in os.listdir(subfolder):\n",
    "            df_sample = pd.read_csv(os.path.join(subfolder, file), index_col=0) \n",
    "            df_sample = add_metrics(df_sample)\n",
    "            df_sample = add_info(df_sample, file, folder)\n",
    "            if not final_csv.empty:\n",
    "                final_csv = pd.concat([final_csv, df_sample], axis=0, ignore_index=True)\n",
    "            else:\n",
    "                final_csv = df_sample.copy()\n",
    "final_csv.to_csv(os.path.join(root, \"global_result.csv\"))"
   ]
  },
  {
   "cell_type": "code",
   "execution_count": null,
   "metadata": {},
   "outputs": [],
   "source": []
  }
 ],
 "metadata": {
  "interpreter": {
   "hash": "e63eb8d25f1b31bafc569ae200f56f145b0d2b6d661b753dfd880c43b223cf6b"
  },
  "kernelspec": {
   "display_name": "Python 3.6.13 64-bit ('broncho': conda)",
   "name": "python3"
  },
  "language_info": {
   "codemirror_mode": {
    "name": "ipython",
    "version": 3
   },
   "file_extension": ".py",
   "mimetype": "text/x-python",
   "name": "python",
   "nbconvert_exporter": "python",
   "pygments_lexer": "ipython3",
   "version": "3.6.13"
  },
  "orig_nbformat": 4
 },
 "nbformat": 4,
 "nbformat_minor": 2
}

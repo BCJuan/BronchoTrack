{
 "cells": [
  {
   "cell_type": "markdown",
   "metadata": {},
   "source": [
    "# Test results\n",
    "\n",
    "With folder `data/cleaned/preds`, we can obtain the results for the position and error metrics but in an accumulated version and not as an average."
   ]
  },
  {
   "cell_type": "code",
   "execution_count": 43,
   "metadata": {},
   "outputs": [],
   "source": [
    "import glob, os, pandas as pd, numpy as np, torch, math\n",
    "from tqdm import tqdm\n",
    "from BronchoTrack import metrics\n",
    "\n",
    "\n",
    "def compute_metrics(folder):\n",
    "    aape, aade = [], []\n",
    "    for pred_path in tqdm(glob.glob(folder)):\n",
    "        df = pd.read_csv(pred_path, index_col=0)\n",
    "        acum = df.cumsum()\n",
    "        pos_preds = torch.from_numpy(acum.loc[acum.index[-1], [\"shift_x\", \"shift_y\", \"shift_z\"]].values)\n",
    "        pos_targets = torch.from_numpy(acum.loc[acum.index[-1], [\"gt_shift_x\", \"gt_shift_y\", \"gt_shift_z\"]].values)\n",
    "        aape.append(metrics.EuclideanDistance.euclidean(pos_preds, pos_targets).numpy())\n",
    "        rot_targets = acum.loc[acum.index[-1], [\"gt_Rx_dif\", \"gt_Ry_dif\", \"gt_Rz_dif\"]].values\n",
    "        rot_preds = acum.loc[acum.index[-1], [\"Rx_dif\", \"Ry_dif\", \"Rz_dif\"]].values\n",
    "        # rot_targets = torch.from_numpy(np.where(rot_targets < 2*math.pi, rot_targets, rot_targets % (2*math.pi)))\n",
    "        # rot_preds = torch.from_numpy(np.where(rot_preds < 2*math.pi, rot_preds, rot_preds % (2*math.pi)))\n",
    "        rot_targets = torch.from_numpy(rot_targets)\n",
    "        rot_preds = torch.from_numpy(rot_preds)\n",
    "        aade.append(metrics.DirectionError.inverse_cos(rot_preds, rot_targets))\n",
    "    return \"AAPE {} +- {}, AADE {} +- {}\".format(np.mean(aape), np.std(aape), np.mean(aade), np.std(aade))"
   ]
  },
  {
   "cell_type": "markdown",
   "metadata": {},
   "source": [
    "## Example"
   ]
  },
  {
   "cell_type": "code",
   "execution_count": 44,
   "metadata": {},
   "outputs": [
    {
     "name": "stderr",
     "output_type": "stream",
     "text": [
      "100%|██████████| 2141/2141 [00:07<00:00, 296.69it/s]\n"
     ]
    },
    {
     "data": {
      "text/plain": [
       "'AAPE 1.4075228303417124 +- 0.8117503835730188, AADE 1.55650108924115 +- 0.6851117633183487'"
      ]
     },
     "execution_count": 44,
     "metadata": {},
     "output_type": "execute_result"
    }
   ],
   "source": [
    "compute_metrics(\"data/cleaned/preds/*.csv\")"
   ]
  }
 ],
 "metadata": {
  "interpreter": {
   "hash": "e63eb8d25f1b31bafc569ae200f56f145b0d2b6d661b753dfd880c43b223cf6b"
  },
  "kernelspec": {
   "display_name": "Python 3.6.13 64-bit ('broncho': conda)",
   "name": "python3"
  },
  "language_info": {
   "codemirror_mode": {
    "name": "ipython",
    "version": 3
   },
   "file_extension": ".py",
   "mimetype": "text/x-python",
   "name": "python",
   "nbconvert_exporter": "python",
   "pygments_lexer": "ipython3",
   "version": "3.6.13"
  },
  "orig_nbformat": 4
 },
 "nbformat": 4,
 "nbformat_minor": 2
}

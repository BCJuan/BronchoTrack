{
 "cells": [
  {
   "cell_type": "markdown",
   "source": [
    "# Test results\n",
    "\n",
    "With folder `data/cleaned/preds`, we can obtain the results for the position and error metrics but in an accumulated version and not as an average."
   ],
   "metadata": {}
  },
  {
   "cell_type": "code",
   "execution_count": 39,
   "source": [
    "import glob, os, pandas as pd, numpy as np, torch, math\n",
    "from BronchoTrack import metrics\n",
    "\n",
    "\n",
    "def compute_metrics(folder):\n",
    "    aape, aade = [], []\n",
    "    for pred_path in glob.glob(folder):\n",
    "        df = pd.read_csv(pred_path, index_col=0)\n",
    "        acum = df.cumsum()\n",
    "        aape.append(metrics.EuclideanDistance.euclidean(\n",
    "                torch.from_numpy(acum.iloc[-1, :3].values), \n",
    "                torch.from_numpy(acum.iloc[-1, 6:9].values)\n",
    "            ).numpy())\n",
    "        rot_targets = acum.iloc[-1, 9:12].values\n",
    "        rot_preds = acum.iloc[-1, 3:6].values\n",
    "        rot_targets = torch.from_numpy(np.where(rot_targets < 2*math.pi, rot_targets, rot_targets/(2*math.pi)))\n",
    "        rot_preds = torch.from_numpy(np.where(rot_preds < 2*math.pi, rot_preds, rot_preds/(2*math.pi)))\n",
    "        aade.append(metrics.DirectionError.inverse_cos(rot_preds, rot_targets))\n",
    "    return \"AAPE {} +- {}, AADE {} +- {}\".format(np.mean(aape), np.std(aape), np.mean(aade), np.std(aade))"
   ],
   "outputs": [],
   "metadata": {}
  },
  {
   "cell_type": "markdown",
   "source": [
    "## Example"
   ],
   "metadata": {}
  },
  {
   "cell_type": "code",
   "execution_count": 40,
   "source": [
    "compute_metrics(\"data/cleaned/preds/*.csv\")"
   ],
   "outputs": [
    {
     "output_type": "execute_result",
     "data": {
      "text/plain": [
       "'AAPE 3.274902757112164 +- 1.2923962549741415, AADE 0.031104936900250096 +- 0.21248717133009515'"
      ]
     },
     "metadata": {},
     "execution_count": 40
    }
   ],
   "metadata": {}
  },
  {
   "cell_type": "code",
   "execution_count": 35,
   "source": [],
   "outputs": [
    {
     "output_type": "stream",
     "name": "stdout",
     "text": [
      "3.274902757112164 0.031104936900250096\n"
     ]
    }
   ],
   "metadata": {}
  },
  {
   "cell_type": "code",
   "execution_count": 11,
   "source": [
    "df.iloc[:, :3]"
   ],
   "outputs": [
    {
     "output_type": "execute_result",
     "data": {
      "text/html": [
       "<div>\n",
       "<style scoped>\n",
       "    .dataframe tbody tr th:only-of-type {\n",
       "        vertical-align: middle;\n",
       "    }\n",
       "\n",
       "    .dataframe tbody tr th {\n",
       "        vertical-align: top;\n",
       "    }\n",
       "\n",
       "    .dataframe thead th {\n",
       "        text-align: right;\n",
       "    }\n",
       "</style>\n",
       "<table border=\"1\" class=\"dataframe\">\n",
       "  <thead>\n",
       "    <tr style=\"text-align: right;\">\n",
       "      <th></th>\n",
       "      <th>shift_x</th>\n",
       "      <th>shift_y</th>\n",
       "      <th>shift_z</th>\n",
       "    </tr>\n",
       "  </thead>\n",
       "  <tbody>\n",
       "    <tr>\n",
       "      <th>0</th>\n",
       "      <td>-0.286085</td>\n",
       "      <td>-0.040937</td>\n",
       "      <td>-0.252244</td>\n",
       "    </tr>\n",
       "    <tr>\n",
       "      <th>1</th>\n",
       "      <td>-0.058546</td>\n",
       "      <td>-0.642844</td>\n",
       "      <td>-0.112465</td>\n",
       "    </tr>\n",
       "    <tr>\n",
       "      <th>2</th>\n",
       "      <td>-0.671197</td>\n",
       "      <td>0.091101</td>\n",
       "      <td>0.228670</td>\n",
       "    </tr>\n",
       "    <tr>\n",
       "      <th>3</th>\n",
       "      <td>-0.279952</td>\n",
       "      <td>-0.283915</td>\n",
       "      <td>-0.557042</td>\n",
       "    </tr>\n",
       "    <tr>\n",
       "      <th>4</th>\n",
       "      <td>0.452790</td>\n",
       "      <td>-0.582968</td>\n",
       "      <td>-0.226855</td>\n",
       "    </tr>\n",
       "    <tr>\n",
       "      <th>5</th>\n",
       "      <td>0.297740</td>\n",
       "      <td>0.043043</td>\n",
       "      <td>-0.361968</td>\n",
       "    </tr>\n",
       "    <tr>\n",
       "      <th>6</th>\n",
       "      <td>0.448898</td>\n",
       "      <td>-0.850242</td>\n",
       "      <td>0.187509</td>\n",
       "    </tr>\n",
       "    <tr>\n",
       "      <th>7</th>\n",
       "      <td>0.573042</td>\n",
       "      <td>-0.551636</td>\n",
       "      <td>0.277836</td>\n",
       "    </tr>\n",
       "    <tr>\n",
       "      <th>8</th>\n",
       "      <td>0.203410</td>\n",
       "      <td>-0.413998</td>\n",
       "      <td>0.033761</td>\n",
       "    </tr>\n",
       "    <tr>\n",
       "      <th>9</th>\n",
       "      <td>0.406840</td>\n",
       "      <td>-0.390766</td>\n",
       "      <td>-0.487211</td>\n",
       "    </tr>\n",
       "  </tbody>\n",
       "</table>\n",
       "</div>"
      ],
      "text/plain": [
       "    shift_x   shift_y   shift_z\n",
       "0 -0.286085 -0.040937 -0.252244\n",
       "1 -0.058546 -0.642844 -0.112465\n",
       "2 -0.671197  0.091101  0.228670\n",
       "3 -0.279952 -0.283915 -0.557042\n",
       "4  0.452790 -0.582968 -0.226855\n",
       "5  0.297740  0.043043 -0.361968\n",
       "6  0.448898 -0.850242  0.187509\n",
       "7  0.573042 -0.551636  0.277836\n",
       "8  0.203410 -0.413998  0.033761\n",
       "9  0.406840 -0.390766 -0.487211"
      ]
     },
     "metadata": {},
     "execution_count": 11
    }
   ],
   "metadata": {}
  },
  {
   "cell_type": "code",
   "execution_count": 18,
   "source": [
    "torch.from_numpy(acum.iloc[0, :3].values)"
   ],
   "outputs": [
    {
     "output_type": "execute_result",
     "data": {
      "text/plain": [
       "tensor([-0.2861, -0.0409, -0.2522], dtype=torch.float64)"
      ]
     },
     "metadata": {},
     "execution_count": 18
    }
   ],
   "metadata": {}
  },
  {
   "cell_type": "code",
   "execution_count": null,
   "source": [],
   "outputs": [],
   "metadata": {}
  }
 ],
 "metadata": {
  "orig_nbformat": 4,
  "language_info": {
   "name": "python",
   "version": "3.6.13",
   "mimetype": "text/x-python",
   "codemirror_mode": {
    "name": "ipython",
    "version": 3
   },
   "pygments_lexer": "ipython3",
   "nbconvert_exporter": "python",
   "file_extension": ".py"
  },
  "kernelspec": {
   "name": "python3",
   "display_name": "Python 3.6.13 64-bit ('broncho': conda)"
  },
  "interpreter": {
   "hash": "f29f6d938d15850e855954a1121bfdec5f813f4f9e76ad69d11f60c25d0beaf4"
  }
 },
 "nbformat": 4,
 "nbformat_minor": 2
}
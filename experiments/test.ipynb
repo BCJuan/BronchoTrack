{
 "cells": [
  {
   "cell_type": "markdown",
   "metadata": {},
   "source": [
    "# Test results\n",
    "\n",
    "With folder `data/cleaned/preds`, we can obtain the results for the position and error metrics but in an accumulated version and not as an average."
   ]
  },
  {
   "cell_type": "code",
   "execution_count": 29,
   "metadata": {},
   "outputs": [],
   "source": [
    "import glob, os, pandas as pd, numpy as np, torch, math\n",
    "from tqdm import tqdm\n",
    "from BronchoTrack import metrics\n",
    "\n",
    "def compute_metrics_acum(folder):\n",
    "    aape, aade, aane = [], [], []\n",
    "    for pred_path in tqdm(glob.glob(folder)):\n",
    "        df = pd.read_csv(pred_path, index_col=0)\n",
    "        acum = df.cumsum()\n",
    "        pos_preds = torch.from_numpy(acum.loc[acum.index[-1], [\"shift_x\", \"shift_y\", \"shift_z\"]].values)\n",
    "        pos_targets = torch.from_numpy(acum.loc[acum.index[-1], [\"gt_shift_x\", \"gt_shift_y\", \"gt_shift_z\"]].values)\n",
    "        aape.append(metrics.EuclideanDistance.euclidean(pos_preds, pos_targets).numpy())\n",
    "        rot_targets = acum.loc[acum.index[-1], [\"gt_Rx_dif\", \"gt_Ry_dif\", \"gt_Rz_dif\"]].values\n",
    "        rot_preds = acum.loc[acum.index[-1], [\"Rx_dif\", \"Ry_dif\", \"Rz_dif\"]].values\n",
    "        # rot_targets = torch.from_numpy(np.where(rot_targets < 2*math.pi, rot_targets, rot_targets % (2*math.pi)))\n",
    "        # rot_preds = torch.from_numpy(np.where(rot_preds < 2*math.pi, rot_preds, rot_preds % (2*math.pi)))\n",
    "        rot_targets = torch.from_numpy(rot_targets)\n",
    "        rot_preds = torch.from_numpy(rot_preds)\n",
    "        aade.append(metrics.DirectionError.inverse_cos(rot_preds, rot_targets))\n",
    "        aane.append(metrics.NeedleError.needle(torch.hstack([pos_preds, rot_preds]), torch.hstack([pos_targets, rot_targets]), distance=5))\n",
    "    return \"AAPE {} +- {}, AADE {} +- {}, AANE {} +- {}\".format(np.mean(aape), np.std(aape), np.mean(aade), np.std(aade), np.mean(aane), np.std(aane))"
   ]
  },
  {
   "cell_type": "code",
   "execution_count": 42,
   "metadata": {},
   "outputs": [
    {
     "name": "stderr",
     "output_type": "stream",
     "text": [
      "100%|██████████| 60/60 [00:00<00:00, 253.17it/s]\n",
      "100%|██████████| 60/60 [00:00<00:00, 279.02it/s]\n",
      "100%|██████████| 60/60 [00:00<00:00, 271.83it/s]\n",
      "100%|██████████| 60/60 [00:00<00:00, 277.03it/s]\n"
     ]
    },
    {
     "data": {
      "text/plain": [
       "('AAPE 9.459412980342695 +- 5.1236123545985635, AADE 1.428653982441162 +- 0.6273529481583715, AANE 12.554729950272515 +- 5.149106072550288',\n",
       " 'AAPE 9.476155222952693 +- 4.9495020137964865, AADE 1.6774646060124208 +- 0.6802142555063323, AANE 12.02689039269879 +- 5.46735578291376',\n",
       " 'AAPE 9.638146298220851 +- 5.2773016438765765, AADE 1.5485344434354702 +- 0.5595277404864861, AANE 12.267086281305797 +- 5.290601949348858',\n",
       " 'AAPE 9.534632434233725 +- 5.038242129678561, AADE 1.4740394623290076 +- 0.6164034346131992, AANE 12.527992965489972 +- 5.2862996562750695')"
      ]
     },
     "execution_count": 42,
     "metadata": {},
     "output_type": "execute_result"
    }
   ],
   "source": [
    "compute_metrics_acum(\"data/cleaned/preds_15traj_MSE/*.csv\"), compute_metrics_acum(\"data/cleaned/preds_15traj_COS/*.csv\"), compute_metrics_acum(\"data/cleaned/preds_15traj_DE/*.csv\"), compute_metrics_acum(\"data/cleaned/preds_15traj_QUAT/*.csv\")"
   ]
  },
  {
   "cell_type": "code",
   "execution_count": 31,
   "metadata": {},
   "outputs": [],
   "source": [
    "def compute_metrics(folder):\n",
    "    aape, aade, aane = [], [], []\n",
    "    for pred_path in tqdm(glob.glob(folder)):\n",
    "        df = pd.read_csv(pred_path, index_col=0)\n",
    "        for row, data in df.iterrows():\n",
    "            pos_preds = torch.from_numpy(data[[\"shift_x\", \"shift_y\", \"shift_z\"]].values)\n",
    "            pos_targets = torch.from_numpy(data[[\"gt_shift_x\", \"gt_shift_y\", \"gt_shift_z\"]].values)\n",
    "            aape.append(metrics.EuclideanDistance.euclidean(pos_preds, pos_targets).numpy())\n",
    "            rot_targets = data[[\"gt_Rx_dif\", \"gt_Ry_dif\", \"gt_Rz_dif\"]].values\n",
    "            rot_preds = data[[\"Rx_dif\", \"Ry_dif\", \"Rz_dif\"]].values\n",
    "            # rot_targets = torch.from_numpy(np.where(rot_targets < 2*math.pi, rot_targets, rot_targets % (2*math.pi)))\n",
    "            # rot_preds = torch.from_numpy(np.where(rot_preds < 2*math.pi, rot_preds, rot_preds % (2*math.pi)))\n",
    "            rot_targets = torch.from_numpy(rot_targets)\n",
    "            rot_preds = torch.from_numpy(rot_preds)\n",
    "            aade.append(metrics.DirectionError.inverse_cos(rot_preds, rot_targets))\n",
    "            aane.append(metrics.NeedleError.needle(torch.hstack([pos_preds, rot_preds]), torch.hstack([pos_targets, rot_targets]), distance=3))\n",
    "    return \"AAPE {} +- {}, AADE {} +- {}, AANE {} +- {}\".format(np.mean(aape), np.std(aape), np.mean(aade), np.std(aade), np.mean(aane), np.std(aane))"
   ]
  },
  {
   "cell_type": "code",
   "execution_count": 41,
   "metadata": {},
   "outputs": [
    {
     "name": "stderr",
     "output_type": "stream",
     "text": [
      "100%|██████████| 60/60 [00:01<00:00, 37.21it/s]\n",
      "100%|██████████| 60/60 [00:01<00:00, 37.82it/s]\n",
      "100%|██████████| 60/60 [00:01<00:00, 38.04it/s]\n",
      "100%|██████████| 60/60 [00:01<00:00, 38.05it/s]\n"
     ]
    },
    {
     "data": {
      "text/plain": [
       "('AAPE 0.7859296359014316 +- 0.43445301812914217, AADE 1.3504551471756292 +- 0.7871291525367192, AANE 3.6116462253046295 +- 1.726402840011931',\n",
       " 'AAPE 0.7852067890908893 +- 0.42517322666672364, AADE 1.2980173913917856 +- 0.8035480129912413, AANE 3.533108055333309 +- 1.7380292609852417',\n",
       " 'AAPE 0.7977475094443849 +- 0.4385815146985014, AADE 1.3602029840215764 +- 0.7983807515189764, AANE 3.662524567033723 +- 1.7101731198348715',\n",
       " 'AAPE 0.7892798068412725 +- 0.4284896648112813, AADE 1.3829313858191883 +- 0.7123440449775926, AANE 3.6762834959848254 +- 1.6079433431331462')"
      ]
     },
     "execution_count": 41,
     "metadata": {},
     "output_type": "execute_result"
    }
   ],
   "source": [
    "compute_metrics(\"data/cleaned/preds_15traj_MSE/*.csv\"), compute_metrics(\"data/cleaned/preds_15traj_COS/*.csv\"), compute_metrics(\"data/cleaned/preds_15traj_DE/*.csv\"), compute_metrics(\"data/cleaned/preds_15traj_QUAT/*.csv\")"
   ]
  },
  {
   "cell_type": "markdown",
   "metadata": {},
   "source": [
    " ## Results loss cross patient"
   ]
  },
  {
   "cell_type": "code",
   "execution_count": 36,
   "metadata": {},
   "outputs": [],
   "source": [
    "from collections import defaultdict"
   ]
  },
  {
   "cell_type": "code",
   "execution_count": 50,
   "metadata": {},
   "outputs": [],
   "source": [
    "def compute_errors(root=\"./data/cleaned/preds_round_1/\", losses=[\"COS\", \"MSE\", \"DE\", \"QUAT\"]):\n",
    "    subfolders = {i: [os.path.join(root, folder)  for folder in os.listdir(root) if i in folder] for i in losses}\n",
    "    submetrics = {i: defaultdict(list) for i in losses}\n",
    "    for loss in tqdm(losses):\n",
    "        for subfolder in subfolders[loss]:\n",
    "            for file in os.listdir(subfolder):\n",
    "                df_sample = pd.read_csv(os.path.join(subfolder, file), index_col=0)\n",
    "                for row, data in df_sample.iterrows():\n",
    "                    pos_preds = torch.from_numpy(data[[\"shift_x\", \"shift_y\", \"shift_z\"]].values)\n",
    "                    pos_targets = torch.from_numpy(data[[\"gt_shift_x\", \"gt_shift_y\", \"gt_shift_z\"]].values)\n",
    "                    submetrics[loss][\"AAPE\"].append(metrics.EuclideanDistance.euclidean(pos_preds, pos_targets).numpy())\n",
    "                    rot_targets = data[[\"gt_Rx_dif\", \"gt_Ry_dif\", \"gt_Rz_dif\"]].values\n",
    "                    rot_preds = data[[\"Rx_dif\", \"Ry_dif\", \"Rz_dif\"]].values\n",
    "                    rot_targets = torch.from_numpy(rot_targets)\n",
    "                    rot_preds = torch.from_numpy(rot_preds)\n",
    "                    submetrics[loss][\"AADE\"].append(metrics.DirectionError.inverse_cos(rot_preds, rot_targets).numpy())\n",
    "                    submetrics[loss][\"AANE\"].append(metrics.NeedleError.needle(torch.hstack([pos_preds, rot_preds]), torch.hstack([pos_targets, rot_targets]), distance=3).numpy())\n",
    "        submetrics[loss][\"AAPE\"] = (np.mean(submetrics[loss][\"AAPE\"]), np.std(submetrics[loss][\"AAPE\"]))\n",
    "        submetrics[loss][\"AADE\"] = (np.mean(submetrics[loss][\"AADE\"]), np.std(submetrics[loss][\"AADE\"]))\n",
    "        submetrics[loss][\"AANE\"] = (np.mean(submetrics[loss][\"AANE\"]), np.std(submetrics[loss][\"AANE\"]))\n",
    "    return submetrics\n",
    "        \n"
   ]
  },
  {
   "cell_type": "code",
   "execution_count": 51,
   "metadata": {},
   "outputs": [
    {
     "data": {
      "application/vnd.jupyter.widget-view+json": {
       "model_id": "c7747927e79f49d0b460c85aab6b581b",
       "version_major": 2,
       "version_minor": 0
      },
      "text/plain": [
       "  0%|          | 0/4 [00:00<?, ?it/s]"
      ]
     },
     "metadata": {},
     "output_type": "display_data"
    }
   ],
   "source": [
    "results = compute_errors()"
   ]
  },
  {
   "cell_type": "code",
   "execution_count": 52,
   "metadata": {},
   "outputs": [
    {
     "data": {
      "text/plain": [
       "{'COS': defaultdict(list,\n",
       "             {'AAPE': (0.7378152121278749, 0.4505294373549075),\n",
       "              'AADE': (1.1975325795102736, 0.7669386701924008),\n",
       "              'AANE': (3.253374431203741, 1.6608348329290958)}),\n",
       " 'MSE': defaultdict(list,\n",
       "             {'AAPE': (0.7555466617392615, 0.4499440452227794),\n",
       "              'AADE': (1.2367228395662788, 0.7639783827566352),\n",
       "              'AANE': (3.3043340700818193, 1.6125088852780254)}),\n",
       " 'DE': defaultdict(list,\n",
       "             {'AAPE': (0.7390488814078968, 0.4434353750507124),\n",
       "              'AADE': (1.2119055731497668, 0.7702147501155583),\n",
       "              'AANE': (3.2856565743090784, 1.666478388639561)}),\n",
       " 'QUAT': defaultdict(list,\n",
       "             {'AAPE': (0.7443752694683445, 0.44549288678195853),\n",
       "              'AADE': (1.332005785650499, 0.6744398102944591),\n",
       "              'AANE': (3.6061799354533117, 1.4897843823402674)})}"
      ]
     },
     "execution_count": 52,
     "metadata": {},
     "output_type": "execute_result"
    }
   ],
   "source": [
    "results"
   ]
  },
  {
   "cell_type": "markdown",
   "metadata": {},
   "source": [
    "# Build docs for Debora"
   ]
  },
  {
   "cell_type": "code",
   "execution_count": 21,
   "metadata": {},
   "outputs": [],
   "source": [
    "import pandas as pd\n",
    "import numpy as np\n",
    "import os\n",
    "from tqdm.notebook import tqdm\n",
    "import torch\n",
    "from BronchoTrack import metrics"
   ]
  },
  {
   "cell_type": "code",
   "execution_count": 29,
   "metadata": {},
   "outputs": [],
   "source": [
    "def add_metrics(df_x):\n",
    "    df_x[\"Direction Error\"], df_x[\"Pos Error\"], df_x[\"Needle Error\"] = 0.0, 0.0, 0.0\n",
    "    for row, data in df_x.iterrows():\n",
    "            pos_preds = torch.from_numpy(data[[\"shift_x\", \"shift_y\", \"shift_z\"]].values)\n",
    "            pos_targets = torch.from_numpy(data[[\"gt_shift_x\", \"gt_shift_y\", \"gt_shift_z\"]].values)\n",
    "            df_x.loc[row, \"Pos Error\"] = metrics.EuclideanDistance.euclidean(pos_preds, pos_targets).numpy()\n",
    "            rot_targets = data[[\"gt_Rx_dif\", \"gt_Ry_dif\", \"gt_Rz_dif\"]].values\n",
    "            rot_preds = data[[\"Rx_dif\", \"Ry_dif\", \"Rz_dif\"]].values\n",
    "            # rot_targets = torch.from_numpy(np.where(rot_targets < 2*math.pi, rot_targets, rot_targets % (2*math.pi)))\n",
    "            # rot_preds = torch.from_numpy(np.where(rot_preds < 2*math.pi, rot_preds, rot_preds % (2*math.pi)))\n",
    "            rot_targets = torch.from_numpy(rot_targets)\n",
    "            rot_preds = torch.from_numpy(rot_preds)\n",
    "            df_x.loc[row, \"Direction Error\"] = metrics.DirectionError.inverse_cos(rot_preds, rot_targets).numpy()\n",
    "            df_x.loc[row, \"Needle Error\"] = metrics.NeedleError.needle(torch.hstack([pos_preds, rot_preds]), torch.hstack([pos_targets, rot_targets]), distance=3).numpy()\n",
    "    return df_x\n",
    "\n",
    "\n",
    "def add_info(df_x, filename, folder):\n",
    "    df_x[\"Patient\"] = filename.split(\"_\")[1]\n",
    "    df_x[\"Lobe\"] = filename.split(\"_\")[-2]\n",
    "    df_x[\"Trajectory\"] = filename.split(\"_\")[-1].split(\".\")[0]\n",
    "    df_x[\"Loss\"] = folder.split(\"_\")[-2]\n",
    "    return df_x"
   ]
  },
  {
   "cell_type": "code",
   "execution_count": 33,
   "metadata": {},
   "outputs": [
    {
     "data": {
      "application/vnd.jupyter.widget-view+json": {
       "model_id": "55dd6a86d8e847c180199efe057dcba7",
       "version_major": 2,
       "version_minor": 0
      },
      "text/plain": [
       "  0%|          | 0/20 [00:00<?, ?it/s]"
      ]
     },
     "metadata": {},
     "output_type": "display_data"
    }
   ],
   "source": [
    "root = \"./data/cleaned/preds_round_1/\"\n",
    "final_csv = pd.DataFrame()\n",
    "for folder in tqdm(os.listdir(root)):\n",
    "    subfolder = os.path.join(root, folder)\n",
    "    if os.path.isdir(subfolder):\n",
    "        for file in os.listdir(subfolder):\n",
    "            df_sample = pd.read_csv(os.path.join(subfolder, file), index_col=0) \n",
    "            df_sample = add_metrics(df_sample)\n",
    "            df_sample = add_info(df_sample, file, folder)\n",
    "            if not final_csv.empty:\n",
    "                final_csv = pd.concat([final_csv, df_sample], axis=0, ignore_index=True)\n",
    "            else:\n",
    "                final_csv = df_sample.copy()\n",
    "final_csv.to_csv(os.path.join(root, \"global_result.csv\"))"
   ]
  },
  {
   "cell_type": "code",
   "execution_count": null,
   "metadata": {},
   "outputs": [],
   "source": []
  }
 ],
 "metadata": {
  "interpreter": {
   "hash": "e63eb8d25f1b31bafc569ae200f56f145b0d2b6d661b753dfd880c43b223cf6b"
  },
  "kernelspec": {
   "display_name": "Python 3.6.13 64-bit ('broncho': conda)",
   "name": "python3"
  },
  "language_info": {
   "codemirror_mode": {
    "name": "ipython",
    "version": 3
   },
   "file_extension": ".py",
   "mimetype": "text/x-python",
   "name": "python",
   "nbconvert_exporter": "python",
   "pygments_lexer": "ipython3",
   "version": "3.6.13"
  },
  "orig_nbformat": 4
 },
 "nbformat": 4,
 "nbformat_minor": 2
}
